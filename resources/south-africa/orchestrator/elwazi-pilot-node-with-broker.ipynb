{
 "cells": [
  {
   "cell_type": "markdown",
   "id": "596a980a-391f-4594-bc1e-43c1c4c091dd",
   "metadata": {
    "slideshow": {
     "slide_type": ""
    },
    "tags": []
   },
   "source": [
    "# Launching WES workflow on DRS objects based on a Data Connect query"
   ]
  },
  {
   "cell_type": "markdown",
   "id": "a94617fb-aa83-4c9b-abb6-818ba4e120e1",
   "metadata": {},
   "source": [
    "## Check if endpoints are available"
   ]
  },
  {
   "cell_type": "code",
   "execution_count": 1,
   "id": "c2c5e3f7-110a-4c7b-89b0-cb06a21a6dd6",
   "metadata": {},
   "outputs": [],
   "source": [
    "import requests\n",
    "import json\n",
    "\n",
    "def pretty_print_json(response):\n",
    "    # pretty print JSON in blue color\n",
    "    print(\"\\033[38;2;8;75;138m\"+json.dumps(response.json(), indent=4)+\"\\033[0m\")\n",
    "    \n",
    "def print_head(text):\n",
    "    # print in green color\n",
    "    print(\"\\033[38;2;8;138;75m\"+text+\"\\033[0m\")"
   ]
  },
  {
   "cell_type": "markdown",
   "id": "60f9eb06",
   "metadata": {},
   "source": [
    "1) Check if WES endpoints are available"
   ]
  },
  {
   "cell_type": "code",
   "execution_count": 4,
   "id": "b8180a74-aa71-407c-84e8-b38904adbd31",
   "metadata": {},
   "outputs": [
    {
     "name": "stdout",
     "output_type": "stream",
     "text": [
      "\u001b[38;2;8;138;75mGET request to http://ga4gh-starter-kit.ilifu.ac.za:6000/ga4gh/wes/v1/service-info\u001b[0m\n",
      "\u001b[38;2;8;75;138m{\n",
      "    \"id\": \"org.ga4gh.starterkit.wes\",\n",
      "    \"name\": \"GA4GH Starter Kit WES Service\",\n",
      "    \"description\": \"An open source, community-driven implementation of the GA4GH Workflow Execution Service (WES)API specification.\",\n",
      "    \"contactUrl\": \"mailto:info@ga4gh.org\",\n",
      "    \"documentationUrl\": \"https://github.com/ga4gh/ga4gh-starter-kit-wes\",\n",
      "    \"createdAt\": \"2020-01-15T12:00:00Z\",\n",
      "    \"updatedAt\": \"2020-01-15T12:00:00Z\",\n",
      "    \"environment\": \"test\",\n",
      "    \"version\": \"0.3.2\",\n",
      "    \"type\": {\n",
      "        \"group\": \"org.ga4gh\",\n",
      "        \"artifact\": \"wes\",\n",
      "        \"version\": \"1.0.1\"\n",
      "    },\n",
      "    \"organization\": {\n",
      "        \"name\": \"Global Alliance for Genomics and Health\",\n",
      "        \"url\": \"https://ga4gh.org\"\n",
      "    },\n",
      "    \"workflow_type_versions\": {\n",
      "        \"WDL\": [\n",
      "            \"1.0\"\n",
      "        ],\n",
      "        \"NEXTFLOW\": [\n",
      "            \"21.04.0\"\n",
      "        ]\n",
      "    },\n",
      "    \"workflow_engine_versions\": {\n",
      "        \"NATIVE\": \"1.0.0\"\n",
      "    }\n",
      "}\u001b[0m\n",
      "\u001b[38;2;8;138;75mGET request to http://elwazi-node.icermali.org:6000/ga4gh/wes/v1/service-info\u001b[0m\n",
      "\u001b[38;2;8;75;138m{\n",
      "    \"id\": \"org.ga4gh.starterkit.wes\",\n",
      "    \"name\": \"GA4GH Starter Kit WES Service\",\n",
      "    \"description\": \"An open source, community-driven implementation of the GA4GH Workflow Execution Service (WES)API specification.\",\n",
      "    \"contactUrl\": \"mailto:info@ga4gh.org\",\n",
      "    \"documentationUrl\": \"https://github.com/ga4gh/ga4gh-starter-kit-wes\",\n",
      "    \"createdAt\": \"2020-01-15T12:00:00Z\",\n",
      "    \"updatedAt\": \"2020-01-15T12:00:00Z\",\n",
      "    \"environment\": \"test\",\n",
      "    \"version\": \"0.3.2\",\n",
      "    \"type\": {\n",
      "        \"group\": \"org.ga4gh\",\n",
      "        \"artifact\": \"wes\",\n",
      "        \"version\": \"1.0.1\"\n",
      "    },\n",
      "    \"organization\": {\n",
      "        \"name\": \"Global Alliance for Genomics and Health\",\n",
      "        \"url\": \"https://ga4gh.org\"\n",
      "    },\n",
      "    \"workflow_type_versions\": {\n",
      "        \"WDL\": [\n",
      "            \"1.0\"\n",
      "        ],\n",
      "        \"NEXTFLOW\": [\n",
      "            \"21.04.0\"\n",
      "        ]\n",
      "    },\n",
      "    \"workflow_engine_versions\": {\n",
      "        \"NATIVE\": \"1.0.0\"\n",
      "    }\n",
      "}\u001b[0m\n"
     ]
    }
   ],
   "source": [
    "node_ips = ['ga4gh-starter-kit.ilifu.ac.za', 'elwazi-node.icermali.org'] # , 'osdp.ace.ac.ug'] #, '196.43.136.22'] \n",
    "wes_port = \"6000\"\n",
    "service_info_path = \"/service-info\"\n",
    "runs_path = \"/runs\"\n",
    "http_method = \"GET\"\n",
    "\n",
    "for node_ip in node_ips:\n",
    "    ga4gh_base_url = \"http://\" + node_ip + \":{}/ga4gh/{}/v1\"\n",
    "    wes_base_url = ga4gh_base_url.format(wes_port,\"wes\")\n",
    "    request_url = wes_base_url+service_info_path\n",
    "    print_head(\"{} request to {}\".format(http_method, request_url))\n",
    "    # GET request to service-info endpoint\n",
    "    wes_service_info_resp = requests.request(http_method, request_url)\n",
    "    # print the response\n",
    "    pretty_print_json(wes_service_info_resp)"
   ]
  },
  {
   "cell_type": "markdown",
   "id": "fbb2920d-4d39-4521-9ed8-5a2c9893bd92",
   "metadata": {},
   "source": [
    "2) Check if DRS endpoints are available"
   ]
  },
  {
   "cell_type": "code",
   "execution_count": 5,
   "id": "e99b4822-8d2a-4447-8bb7-db4618921199",
   "metadata": {},
   "outputs": [
    {
     "name": "stdout",
     "output_type": "stream",
     "text": [
      "\u001b[38;2;8;138;75mGET request to http://ga4gh-starter-kit.ilifu.ac.za:5000/ga4gh/drs/v1/service-info\u001b[0m\n",
      "\u001b[38;2;8;75;138m{\n",
      "    \"id\": \"org.ga4gh.starterkit.drs\",\n",
      "    \"name\": \"GA4GH Starter Kit DRS Service\",\n",
      "    \"description\": \"An open source, community-driven implementation of the GA4GH Data Repository Service (DRS) API specification.\",\n",
      "    \"contactUrl\": \"mailto:info@ga4gh.org\",\n",
      "    \"documentationUrl\": \"https://github.com/ga4gh/ga4gh-starter-kit-drs\",\n",
      "    \"createdAt\": \"2020-01-15T12:00:00Z\",\n",
      "    \"updatedAt\": \"2020-01-15T12:00:00Z\",\n",
      "    \"environment\": \"test\",\n",
      "    \"version\": \"0.3.2\",\n",
      "    \"type\": {\n",
      "        \"group\": \"org.ga4gh\",\n",
      "        \"artifact\": \"drs\",\n",
      "        \"version\": \"1.3.0experimental\"\n",
      "    },\n",
      "    \"organization\": {\n",
      "        \"name\": \"Global Alliance for Genomics and Health\",\n",
      "        \"url\": \"https://ga4gh.org\"\n",
      "    }\n",
      "}\u001b[0m\n",
      "\u001b[38;2;8;138;75mGET request to http://elwazi-node.icermali.org:5000/ga4gh/drs/v1/service-info\u001b[0m\n",
      "\u001b[38;2;8;75;138m{\n",
      "    \"id\": \"org.ga4gh.starterkit.drs\",\n",
      "    \"name\": \"GA4GH Starter Kit DRS Service\",\n",
      "    \"description\": \"An open source, community-driven implementation of the GA4GH Data Repository Service (DRS) API specification.\",\n",
      "    \"contactUrl\": \"mailto:info@ga4gh.org\",\n",
      "    \"documentationUrl\": \"https://github.com/ga4gh/ga4gh-starter-kit-drs\",\n",
      "    \"createdAt\": \"2020-01-15T12:00:00Z\",\n",
      "    \"updatedAt\": \"2020-01-15T12:00:00Z\",\n",
      "    \"environment\": \"test\",\n",
      "    \"version\": \"0.3.2\",\n",
      "    \"type\": {\n",
      "        \"group\": \"org.ga4gh\",\n",
      "        \"artifact\": \"drs\",\n",
      "        \"version\": \"1.3.0experimental\"\n",
      "    },\n",
      "    \"organization\": {\n",
      "        \"name\": \"Global Alliance for Genomics and Health\",\n",
      "        \"url\": \"https://ga4gh.org\"\n",
      "    }\n",
      "}\u001b[0m\n"
     ]
    }
   ],
   "source": [
    "node_ips = ['ga4gh-starter-kit.ilifu.ac.za','elwazi-node.icermali.org'] #,'osdp.ace.ac.ug', '196.43.136.22'] \n",
    "drs_port = \"5000\"\n",
    "service_info_path = \"/service-info\"\n",
    "http_method = \"GET\"\n",
    "\n",
    "for node_ip in node_ips:\n",
    "    ga4gh_base_url = \"http://\" + node_ip + \":{}/ga4gh/{}/v1\"\n",
    "    drs_base_url = ga4gh_base_url.format(drs_port,\"drs\")\n",
    "    request_url = drs_base_url+service_info_path\n",
    "    print_head(\"{} request to {}\".format(http_method, request_url))\n",
    "    # GET request to service-info endpoint\n",
    "    drs_service_info_resp = requests.request(http_method, request_url)\n",
    "    # print the response\n",
    "    pretty_print_json(drs_service_info_resp)"
   ]
  },
  {
   "cell_type": "markdown",
   "id": "01f00bdd",
   "metadata": {},
   "source": [
    "3) Check if Passport Broker endpoints are available"
   ]
  },
  {
   "cell_type": "code",
   "execution_count": 6,
   "id": "e43c32bd",
   "metadata": {},
   "outputs": [
    {
     "name": "stdout",
     "output_type": "stream",
     "text": [
      "\u001b[38;2;8;138;75mGET request to http://localhost:4500/ga4gh/passport/v1/service-info\u001b[0m\n",
      "\u001b[38;2;8;75;138m{\n",
      "    \"id\": \"org.ga4gh.starterkit.passport.broker\",\n",
      "    \"name\": \"GA4GH Starter Kit Passport Broker Service\",\n",
      "    \"description\": \"Starter Kit implementation of a Passport Broker service, outlined in the GA4GH Passports specification. Manages researcher permissions to data and compute, and enables this information to be minted as JWTs and passed to downstream clearinghouses.\",\n",
      "    \"contactUrl\": \"mailto:info@ga4gh.org\",\n",
      "    \"documentationUrl\": \"https://github.com/ga4gh/ga4gh-starter-kit-passport-broker\",\n",
      "    \"createdAt\": \"2022-04-28T09:00:00Z\",\n",
      "    \"updatedAt\": \"2022-04-28T09:00:00Z\",\n",
      "    \"environment\": \"test\",\n",
      "    \"version\": \"0.0.2\",\n",
      "    \"type\": {\n",
      "        \"group\": \"org.ga4gh\",\n",
      "        \"artifact\": \"passport-broker\",\n",
      "        \"version\": \"1.0.0\"\n",
      "    },\n",
      "    \"organization\": {\n",
      "        \"name\": \"Global Alliance for Genomics and Health\",\n",
      "        \"url\": \"https://ga4gh.org\"\n",
      "    }\n",
      "}\u001b[0m\n"
     ]
    }
   ],
   "source": [
    "node_ips = ['localhost'] #'ga4gh-starter-kit.ilifu.ac.za']#, 'osdp.ace.ac.ug', 'elwazi-node.icermali.org'] #,  '196.43.136.22'] \n",
    "broker_port = \"4500\"\n",
    "service_info_path = \"/service-info\"\n",
    "http_method = \"GET\"\n",
    "\n",
    "for node_ip in node_ips:\n",
    "    ga4gh_base_url = \"http://\" + node_ip + \":{}/ga4gh/{}/v1\"\n",
    "    broker_base_url = ga4gh_base_url.format(broker_port,\"passport\")\n",
    "    request_url = broker_base_url+service_info_path\n",
    "    print_head(\"{} request to {}\".format(http_method, request_url))\n",
    "    # GET request to service-info endpoint\n",
    "    broker_service_info_resp = requests.request(http_method, request_url)\n",
    "    # print the response\n",
    "    pretty_print_json(broker_service_info_resp)"
   ]
  },
  {
   "cell_type": "markdown",
   "id": "d1f89e9f-1653-4e96-bdcc-d9826bbb978d",
   "metadata": {},
   "source": [
    "## Check if DRS objects exists on endpoint"
   ]
  },
  {
   "cell_type": "markdown",
   "id": "aaa4a7d5-f7cb-4227-812e-1b16f85feba9",
   "metadata": {},
   "source": [
    "1. Check ga4gh-starter-kit.ilifu.ac.za"
   ]
  },
  {
   "cell_type": "code",
   "execution_count": 7,
   "id": "5eb5b2f5-d57b-493a-8000-c6ffad3e7ac4",
   "metadata": {},
   "outputs": [
    {
     "name": "stdout",
     "output_type": "stream",
     "text": [
      "\u001b[38;2;8;138;75mGET request to http://ga4gh-starter-kit.ilifu.ac.za:5000/ga4gh/drs/v1/objects/cf99eed44d272c7a9146a7f3216c8bd1\u001b[0m\n",
      "\u001b[38;2;8;75;138m{\n",
      "    \"id\": \"cf99eed44d272c7a9146a7f3216c8bd1\",\n",
      "    \"description\": \"Patient: HG04015, Country: ITU, Region: SAS, Sex: male\\n\",\n",
      "    \"created_time\": \"2023-12-05T18:19:02Z\",\n",
      "    \"mime_type\": \"application/cram\",\n",
      "    \"name\": \"HG04015.final.chrX_15494566-15607236\",\n",
      "    \"size\": 0,\n",
      "    \"updated_time\": \"2023-12-05T18:19:02Z\",\n",
      "    \"checksums\": [\n",
      "        {\n",
      "            \"checksum\": \"704074d0d6d57371fc3f8ca7f1164feacb221165\",\n",
      "            \"type\": \"sha1\"\n",
      "        },\n",
      "        {\n",
      "            \"checksum\": \"2646f5e2bdbc2e7e028e506147eee561008bafd79285577aa4a6d714400ae920\",\n",
      "            \"type\": \"sha256\"\n",
      "        },\n",
      "        {\n",
      "            \"checksum\": \"cf99eed44d272c7a9146a7f3216c8bd1\",\n",
      "            \"type\": \"md5\"\n",
      "        }\n",
      "    ],\n",
      "    \"self_uri\": \"drs://ga4gh-starter-kit.ilifu.ac.za:5000/cf99eed44d272c7a9146a7f3216c8bd1\",\n",
      "    \"access_methods\": [\n",
      "        {\n",
      "            \"access_url\": {\n",
      "                \"url\": \"file:///share/elwazi/crams/HG04015/HG04015.final.chrX_15494566-15607236.cram\"\n",
      "            },\n",
      "            \"type\": \"file\"\n",
      "        },\n",
      "        {\n",
      "            \"access_id\": \"d404aef3-dd51-4be0-9d55-42a0ec7b31ba\",\n",
      "            \"type\": \"https\"\n",
      "        }\n",
      "    ]\n",
      "}\u001b[0m\n",
      "\u001b[38;2;8;138;75mGET request to http://ga4gh-starter-kit.ilifu.ac.za:5000/ga4gh/drs/v1/objects/c3465aa1f0ef8773d5eede6c23e8e9b2\u001b[0m\n",
      "\u001b[38;2;8;75;138m{\n",
      "    \"id\": \"c3465aa1f0ef8773d5eede6c23e8e9b2\",\n",
      "    \"description\": \"Patient: HG04176, Country: BEB, Region: SAS, Sex: male\\n\",\n",
      "    \"created_time\": \"2023-12-05T18:19:02Z\",\n",
      "    \"mime_type\": \"application/cram\",\n",
      "    \"name\": \"HG04176.final.chrX_15494566-15607236\",\n",
      "    \"size\": 0,\n",
      "    \"updated_time\": \"2023-12-05T18:19:02Z\",\n",
      "    \"checksums\": [\n",
      "        {\n",
      "            \"checksum\": \"714e01fd9f7955a670e8721a66f83f74f1732a2e\",\n",
      "            \"type\": \"sha1\"\n",
      "        },\n",
      "        {\n",
      "            \"checksum\": \"5e7aa64ed0b500b0e3cb3327b65b653aba77b2d29ea6ad8b1511999abc3b9d3d\",\n",
      "            \"type\": \"sha256\"\n",
      "        },\n",
      "        {\n",
      "            \"checksum\": \"c3465aa1f0ef8773d5eede6c23e8e9b2\",\n",
      "            \"type\": \"md5\"\n",
      "        }\n",
      "    ],\n",
      "    \"self_uri\": \"drs://ga4gh-starter-kit.ilifu.ac.za:5000/c3465aa1f0ef8773d5eede6c23e8e9b2\",\n",
      "    \"access_methods\": [\n",
      "        {\n",
      "            \"access_url\": {\n",
      "                \"url\": \"file:///share/elwazi/crams/HG04176/HG04176.final.chrX_15494566-15607236.cram\"\n",
      "            },\n",
      "            \"type\": \"file\"\n",
      "        },\n",
      "        {\n",
      "            \"access_id\": \"81ecabf5-5cfa-488d-aa55-64fff259ad37\",\n",
      "            \"type\": \"https\"\n",
      "        }\n",
      "    ]\n",
      "}\u001b[0m\n"
     ]
    }
   ],
   "source": [
    "http_method = \"GET\"\n",
    "node_ip = 'ga4gh-starter-kit.ilifu.ac.za'\n",
    "drs_port = \"5000\"\n",
    "# drs_ids = ['91860745a820a28b6c37d60432925bed','3520f407daf560b1732b9e026879eae4'] #authenticated\n",
    "drs_ids = ['cf99eed44d272c7a9146a7f3216c8bd1','c3465aa1f0ef8773d5eede6c23e8e9b2']\n",
    "object_path_get = \"/objects/{}\"\n",
    "object_path_post = \"/objects\"\n",
    "access_path = \"/objects/{}/access/{}\"\n",
    "\n",
    "for drs_id in drs_ids:\n",
    "    ga4gh_base_url = \"http://\" + node_ip + \":{}/ga4gh/{}/v1\"\n",
    "    drs_base_url = ga4gh_base_url.format(drs_port,\"drs\")\n",
    "    request_url = drs_base_url+object_path_get.format(drs_id)\n",
    "    print_head(\"{} request to {}\".format(http_method, request_url))\n",
    "    # GET request to /objects/{object_id} endpoint\n",
    "    drs_object_response = requests.request(http_method, request_url)\n",
    "    # print the response\n",
    "    pretty_print_json(drs_object_response)"
   ]
  },
  {
   "cell_type": "markdown",
   "id": "14adb260-3107-4791-841b-831c2052cd6e",
   "metadata": {},
   "source": [
    "2.1 Check osdp.ace.ac.ug (ACE - Uganda)"
   ]
  },
  {
   "cell_type": "code",
   "execution_count": 8,
   "id": "52ad5806-4704-472c-8e1e-5012e3d1ddb1",
   "metadata": {},
   "outputs": [
    {
     "name": "stdout",
     "output_type": "stream",
     "text": [
      "\u001b[38;2;8;138;75mGET request to http://osdp.ace.ac.ug:5000/ga4gh/drs/v1/objects/c4b39bfcd30c59b70beb090fe4fdc2a1\u001b[0m\n"
     ]
    },
    {
     "ename": "KeyboardInterrupt",
     "evalue": "",
     "output_type": "error",
     "traceback": [
      "\u001b[0;31m---------------------------------------------------------------------------\u001b[0m",
      "\u001b[0;31mKeyboardInterrupt\u001b[0m                         Traceback (most recent call last)",
      "\u001b[1;32m/home/taku/elwazi-pilot-node-with-broker.ipynb Cell 14\u001b[0m line \u001b[0;36m1\n\u001b[1;32m     <a href='vscode-notebook-cell://ssh-remote%2Bga4gh-starter-kit.ilifu.ac.za/home/taku/elwazi-pilot-node-with-broker.ipynb#X16sdnNjb2RlLXJlbW90ZQ%3D%3D?line=13'>14</a>\u001b[0m print_head(\u001b[39m\"\u001b[39m\u001b[39m{}\u001b[39;00m\u001b[39m request to \u001b[39m\u001b[39m{}\u001b[39;00m\u001b[39m\"\u001b[39m\u001b[39m.\u001b[39mformat(http_method, request_url))\n\u001b[1;32m     <a href='vscode-notebook-cell://ssh-remote%2Bga4gh-starter-kit.ilifu.ac.za/home/taku/elwazi-pilot-node-with-broker.ipynb#X16sdnNjb2RlLXJlbW90ZQ%3D%3D?line=14'>15</a>\u001b[0m \u001b[39m# GET request to /objects/{object_id} endpoint\u001b[39;00m\n\u001b[0;32m---> <a href='vscode-notebook-cell://ssh-remote%2Bga4gh-starter-kit.ilifu.ac.za/home/taku/elwazi-pilot-node-with-broker.ipynb#X16sdnNjb2RlLXJlbW90ZQ%3D%3D?line=15'>16</a>\u001b[0m drs_object_response \u001b[39m=\u001b[39m requests\u001b[39m.\u001b[39;49mrequest(http_method, request_url)\n\u001b[1;32m     <a href='vscode-notebook-cell://ssh-remote%2Bga4gh-starter-kit.ilifu.ac.za/home/taku/elwazi-pilot-node-with-broker.ipynb#X16sdnNjb2RlLXJlbW90ZQ%3D%3D?line=16'>17</a>\u001b[0m \u001b[39m# print the response\u001b[39;00m\n\u001b[1;32m     <a href='vscode-notebook-cell://ssh-remote%2Bga4gh-starter-kit.ilifu.ac.za/home/taku/elwazi-pilot-node-with-broker.ipynb#X16sdnNjb2RlLXJlbW90ZQ%3D%3D?line=17'>18</a>\u001b[0m pretty_print_json(drs_object_response)\n",
      "File \u001b[0;32m/usr/lib/python3/dist-packages/requests/api.py:61\u001b[0m, in \u001b[0;36mrequest\u001b[0;34m(method, url, **kwargs)\u001b[0m\n\u001b[1;32m     57\u001b[0m \u001b[39m# By using the 'with' statement we are sure the session is closed, thus we\u001b[39;00m\n\u001b[1;32m     58\u001b[0m \u001b[39m# avoid leaving sockets open which can trigger a ResourceWarning in some\u001b[39;00m\n\u001b[1;32m     59\u001b[0m \u001b[39m# cases, and look like a memory leak in others.\u001b[39;00m\n\u001b[1;32m     60\u001b[0m \u001b[39mwith\u001b[39;00m sessions\u001b[39m.\u001b[39mSession() \u001b[39mas\u001b[39;00m session:\n\u001b[0;32m---> 61\u001b[0m     \u001b[39mreturn\u001b[39;00m session\u001b[39m.\u001b[39;49mrequest(method\u001b[39m=\u001b[39;49mmethod, url\u001b[39m=\u001b[39;49murl, \u001b[39m*\u001b[39;49m\u001b[39m*\u001b[39;49mkwargs)\n",
      "File \u001b[0;32m/usr/lib/python3/dist-packages/requests/sessions.py:542\u001b[0m, in \u001b[0;36mSession.request\u001b[0;34m(self, method, url, params, data, headers, cookies, files, auth, timeout, allow_redirects, proxies, hooks, stream, verify, cert, json)\u001b[0m\n\u001b[1;32m    537\u001b[0m send_kwargs \u001b[39m=\u001b[39m {\n\u001b[1;32m    538\u001b[0m     \u001b[39m'\u001b[39m\u001b[39mtimeout\u001b[39m\u001b[39m'\u001b[39m: timeout,\n\u001b[1;32m    539\u001b[0m     \u001b[39m'\u001b[39m\u001b[39mallow_redirects\u001b[39m\u001b[39m'\u001b[39m: allow_redirects,\n\u001b[1;32m    540\u001b[0m }\n\u001b[1;32m    541\u001b[0m send_kwargs\u001b[39m.\u001b[39mupdate(settings)\n\u001b[0;32m--> 542\u001b[0m resp \u001b[39m=\u001b[39m \u001b[39mself\u001b[39;49m\u001b[39m.\u001b[39;49msend(prep, \u001b[39m*\u001b[39;49m\u001b[39m*\u001b[39;49msend_kwargs)\n\u001b[1;32m    544\u001b[0m \u001b[39mreturn\u001b[39;00m resp\n",
      "File \u001b[0;32m/usr/lib/python3/dist-packages/requests/sessions.py:655\u001b[0m, in \u001b[0;36mSession.send\u001b[0;34m(self, request, **kwargs)\u001b[0m\n\u001b[1;32m    652\u001b[0m start \u001b[39m=\u001b[39m preferred_clock()\n\u001b[1;32m    654\u001b[0m \u001b[39m# Send the request\u001b[39;00m\n\u001b[0;32m--> 655\u001b[0m r \u001b[39m=\u001b[39m adapter\u001b[39m.\u001b[39;49msend(request, \u001b[39m*\u001b[39;49m\u001b[39m*\u001b[39;49mkwargs)\n\u001b[1;32m    657\u001b[0m \u001b[39m# Total elapsed time of the request (approximately)\u001b[39;00m\n\u001b[1;32m    658\u001b[0m elapsed \u001b[39m=\u001b[39m preferred_clock() \u001b[39m-\u001b[39m start\n",
      "File \u001b[0;32m/usr/lib/python3/dist-packages/requests/adapters.py:439\u001b[0m, in \u001b[0;36mHTTPAdapter.send\u001b[0;34m(self, request, stream, timeout, verify, cert, proxies)\u001b[0m\n\u001b[1;32m    437\u001b[0m \u001b[39mtry\u001b[39;00m:\n\u001b[1;32m    438\u001b[0m     \u001b[39mif\u001b[39;00m \u001b[39mnot\u001b[39;00m chunked:\n\u001b[0;32m--> 439\u001b[0m         resp \u001b[39m=\u001b[39m conn\u001b[39m.\u001b[39;49murlopen(\n\u001b[1;32m    440\u001b[0m             method\u001b[39m=\u001b[39;49mrequest\u001b[39m.\u001b[39;49mmethod,\n\u001b[1;32m    441\u001b[0m             url\u001b[39m=\u001b[39;49murl,\n\u001b[1;32m    442\u001b[0m             body\u001b[39m=\u001b[39;49mrequest\u001b[39m.\u001b[39;49mbody,\n\u001b[1;32m    443\u001b[0m             headers\u001b[39m=\u001b[39;49mrequest\u001b[39m.\u001b[39;49mheaders,\n\u001b[1;32m    444\u001b[0m             redirect\u001b[39m=\u001b[39;49m\u001b[39mFalse\u001b[39;49;00m,\n\u001b[1;32m    445\u001b[0m             assert_same_host\u001b[39m=\u001b[39;49m\u001b[39mFalse\u001b[39;49;00m,\n\u001b[1;32m    446\u001b[0m             preload_content\u001b[39m=\u001b[39;49m\u001b[39mFalse\u001b[39;49;00m,\n\u001b[1;32m    447\u001b[0m             decode_content\u001b[39m=\u001b[39;49m\u001b[39mFalse\u001b[39;49;00m,\n\u001b[1;32m    448\u001b[0m             retries\u001b[39m=\u001b[39;49m\u001b[39mself\u001b[39;49m\u001b[39m.\u001b[39;49mmax_retries,\n\u001b[1;32m    449\u001b[0m             timeout\u001b[39m=\u001b[39;49mtimeout\n\u001b[1;32m    450\u001b[0m         )\n\u001b[1;32m    452\u001b[0m     \u001b[39m# Send the request.\u001b[39;00m\n\u001b[1;32m    453\u001b[0m     \u001b[39melse\u001b[39;00m:\n\u001b[1;32m    454\u001b[0m         \u001b[39mif\u001b[39;00m \u001b[39mhasattr\u001b[39m(conn, \u001b[39m'\u001b[39m\u001b[39mproxy_pool\u001b[39m\u001b[39m'\u001b[39m):\n",
      "File \u001b[0;32m/usr/lib/python3/dist-packages/urllib3/connectionpool.py:699\u001b[0m, in \u001b[0;36mHTTPConnectionPool.urlopen\u001b[0;34m(self, method, url, body, headers, retries, redirect, assert_same_host, timeout, pool_timeout, release_conn, chunked, body_pos, **response_kw)\u001b[0m\n\u001b[1;32m    696\u001b[0m     \u001b[39mself\u001b[39m\u001b[39m.\u001b[39m_prepare_proxy(conn)\n\u001b[1;32m    698\u001b[0m \u001b[39m# Make the request on the httplib connection object.\u001b[39;00m\n\u001b[0;32m--> 699\u001b[0m httplib_response \u001b[39m=\u001b[39m \u001b[39mself\u001b[39;49m\u001b[39m.\u001b[39;49m_make_request(\n\u001b[1;32m    700\u001b[0m     conn,\n\u001b[1;32m    701\u001b[0m     method,\n\u001b[1;32m    702\u001b[0m     url,\n\u001b[1;32m    703\u001b[0m     timeout\u001b[39m=\u001b[39;49mtimeout_obj,\n\u001b[1;32m    704\u001b[0m     body\u001b[39m=\u001b[39;49mbody,\n\u001b[1;32m    705\u001b[0m     headers\u001b[39m=\u001b[39;49mheaders,\n\u001b[1;32m    706\u001b[0m     chunked\u001b[39m=\u001b[39;49mchunked,\n\u001b[1;32m    707\u001b[0m )\n\u001b[1;32m    709\u001b[0m \u001b[39m# If we're going to release the connection in ``finally:``, then\u001b[39;00m\n\u001b[1;32m    710\u001b[0m \u001b[39m# the response doesn't need to know about the connection. Otherwise\u001b[39;00m\n\u001b[1;32m    711\u001b[0m \u001b[39m# it will also try to release it and we'll have a double-release\u001b[39;00m\n\u001b[1;32m    712\u001b[0m \u001b[39m# mess.\u001b[39;00m\n\u001b[1;32m    713\u001b[0m response_conn \u001b[39m=\u001b[39m conn \u001b[39mif\u001b[39;00m \u001b[39mnot\u001b[39;00m release_conn \u001b[39melse\u001b[39;00m \u001b[39mNone\u001b[39;00m\n",
      "File \u001b[0;32m/usr/lib/python3/dist-packages/urllib3/connectionpool.py:394\u001b[0m, in \u001b[0;36mHTTPConnectionPool._make_request\u001b[0;34m(self, conn, method, url, timeout, chunked, **httplib_request_kw)\u001b[0m\n\u001b[1;32m    392\u001b[0m         conn\u001b[39m.\u001b[39mrequest_chunked(method, url, \u001b[39m*\u001b[39m\u001b[39m*\u001b[39mhttplib_request_kw)\n\u001b[1;32m    393\u001b[0m     \u001b[39melse\u001b[39;00m:\n\u001b[0;32m--> 394\u001b[0m         conn\u001b[39m.\u001b[39;49mrequest(method, url, \u001b[39m*\u001b[39;49m\u001b[39m*\u001b[39;49mhttplib_request_kw)\n\u001b[1;32m    396\u001b[0m \u001b[39m# We are swallowing BrokenPipeError (errno.EPIPE) since the server is\u001b[39;00m\n\u001b[1;32m    397\u001b[0m \u001b[39m# legitimately able to close the connection after sending a valid response.\u001b[39;00m\n\u001b[1;32m    398\u001b[0m \u001b[39m# With this behaviour, the received response is still readable.\u001b[39;00m\n\u001b[1;32m    399\u001b[0m \u001b[39mexcept\u001b[39;00m \u001b[39mBrokenPipeError\u001b[39;00m:\n\u001b[1;32m    400\u001b[0m     \u001b[39m# Python 3\u001b[39;00m\n",
      "File \u001b[0;32m/usr/lib/python3/dist-packages/urllib3/connection.py:234\u001b[0m, in \u001b[0;36mHTTPConnection.request\u001b[0;34m(self, method, url, body, headers)\u001b[0m\n\u001b[1;32m    232\u001b[0m \u001b[39mif\u001b[39;00m \u001b[39m\"\u001b[39m\u001b[39muser-agent\u001b[39m\u001b[39m\"\u001b[39m \u001b[39mnot\u001b[39;00m \u001b[39min\u001b[39;00m (six\u001b[39m.\u001b[39mensure_str(k\u001b[39m.\u001b[39mlower()) \u001b[39mfor\u001b[39;00m k \u001b[39min\u001b[39;00m headers):\n\u001b[1;32m    233\u001b[0m     headers[\u001b[39m\"\u001b[39m\u001b[39mUser-Agent\u001b[39m\u001b[39m\"\u001b[39m] \u001b[39m=\u001b[39m _get_default_user_agent()\n\u001b[0;32m--> 234\u001b[0m \u001b[39msuper\u001b[39;49m(HTTPConnection, \u001b[39mself\u001b[39;49m)\u001b[39m.\u001b[39;49mrequest(method, url, body\u001b[39m=\u001b[39;49mbody, headers\u001b[39m=\u001b[39;49mheaders)\n",
      "File \u001b[0;32m/usr/lib/python3.10/http/client.py:1282\u001b[0m, in \u001b[0;36mHTTPConnection.request\u001b[0;34m(self, method, url, body, headers, encode_chunked)\u001b[0m\n\u001b[1;32m   1279\u001b[0m \u001b[39mdef\u001b[39;00m \u001b[39mrequest\u001b[39m(\u001b[39mself\u001b[39m, method, url, body\u001b[39m=\u001b[39m\u001b[39mNone\u001b[39;00m, headers\u001b[39m=\u001b[39m{}, \u001b[39m*\u001b[39m,\n\u001b[1;32m   1280\u001b[0m             encode_chunked\u001b[39m=\u001b[39m\u001b[39mFalse\u001b[39;00m):\n\u001b[1;32m   1281\u001b[0m \u001b[39m    \u001b[39m\u001b[39m\"\"\"Send a complete request to the server.\"\"\"\u001b[39;00m\n\u001b[0;32m-> 1282\u001b[0m     \u001b[39mself\u001b[39;49m\u001b[39m.\u001b[39;49m_send_request(method, url, body, headers, encode_chunked)\n",
      "File \u001b[0;32m/usr/lib/python3.10/http/client.py:1328\u001b[0m, in \u001b[0;36mHTTPConnection._send_request\u001b[0;34m(self, method, url, body, headers, encode_chunked)\u001b[0m\n\u001b[1;32m   1324\u001b[0m \u001b[39mif\u001b[39;00m \u001b[39misinstance\u001b[39m(body, \u001b[39mstr\u001b[39m):\n\u001b[1;32m   1325\u001b[0m     \u001b[39m# RFC 2616 Section 3.7.1 says that text default has a\u001b[39;00m\n\u001b[1;32m   1326\u001b[0m     \u001b[39m# default charset of iso-8859-1.\u001b[39;00m\n\u001b[1;32m   1327\u001b[0m     body \u001b[39m=\u001b[39m _encode(body, \u001b[39m'\u001b[39m\u001b[39mbody\u001b[39m\u001b[39m'\u001b[39m)\n\u001b[0;32m-> 1328\u001b[0m \u001b[39mself\u001b[39;49m\u001b[39m.\u001b[39;49mendheaders(body, encode_chunked\u001b[39m=\u001b[39;49mencode_chunked)\n",
      "File \u001b[0;32m/usr/lib/python3.10/http/client.py:1277\u001b[0m, in \u001b[0;36mHTTPConnection.endheaders\u001b[0;34m(self, message_body, encode_chunked)\u001b[0m\n\u001b[1;32m   1275\u001b[0m \u001b[39melse\u001b[39;00m:\n\u001b[1;32m   1276\u001b[0m     \u001b[39mraise\u001b[39;00m CannotSendHeader()\n\u001b[0;32m-> 1277\u001b[0m \u001b[39mself\u001b[39;49m\u001b[39m.\u001b[39;49m_send_output(message_body, encode_chunked\u001b[39m=\u001b[39;49mencode_chunked)\n",
      "File \u001b[0;32m/usr/lib/python3.10/http/client.py:1037\u001b[0m, in \u001b[0;36mHTTPConnection._send_output\u001b[0;34m(self, message_body, encode_chunked)\u001b[0m\n\u001b[1;32m   1035\u001b[0m msg \u001b[39m=\u001b[39m \u001b[39mb\u001b[39m\u001b[39m\"\u001b[39m\u001b[39m\\r\u001b[39;00m\u001b[39m\\n\u001b[39;00m\u001b[39m\"\u001b[39m\u001b[39m.\u001b[39mjoin(\u001b[39mself\u001b[39m\u001b[39m.\u001b[39m_buffer)\n\u001b[1;32m   1036\u001b[0m \u001b[39mdel\u001b[39;00m \u001b[39mself\u001b[39m\u001b[39m.\u001b[39m_buffer[:]\n\u001b[0;32m-> 1037\u001b[0m \u001b[39mself\u001b[39;49m\u001b[39m.\u001b[39;49msend(msg)\n\u001b[1;32m   1039\u001b[0m \u001b[39mif\u001b[39;00m message_body \u001b[39mis\u001b[39;00m \u001b[39mnot\u001b[39;00m \u001b[39mNone\u001b[39;00m:\n\u001b[1;32m   1040\u001b[0m \n\u001b[1;32m   1041\u001b[0m     \u001b[39m# create a consistent interface to message_body\u001b[39;00m\n\u001b[1;32m   1042\u001b[0m     \u001b[39mif\u001b[39;00m \u001b[39mhasattr\u001b[39m(message_body, \u001b[39m'\u001b[39m\u001b[39mread\u001b[39m\u001b[39m'\u001b[39m):\n\u001b[1;32m   1043\u001b[0m         \u001b[39m# Let file-like take precedence over byte-like.  This\u001b[39;00m\n\u001b[1;32m   1044\u001b[0m         \u001b[39m# is needed to allow the current position of mmap'ed\u001b[39;00m\n\u001b[1;32m   1045\u001b[0m         \u001b[39m# files to be taken into account.\u001b[39;00m\n",
      "File \u001b[0;32m/usr/lib/python3.10/http/client.py:975\u001b[0m, in \u001b[0;36mHTTPConnection.send\u001b[0;34m(self, data)\u001b[0m\n\u001b[1;32m    973\u001b[0m \u001b[39mif\u001b[39;00m \u001b[39mself\u001b[39m\u001b[39m.\u001b[39msock \u001b[39mis\u001b[39;00m \u001b[39mNone\u001b[39;00m:\n\u001b[1;32m    974\u001b[0m     \u001b[39mif\u001b[39;00m \u001b[39mself\u001b[39m\u001b[39m.\u001b[39mauto_open:\n\u001b[0;32m--> 975\u001b[0m         \u001b[39mself\u001b[39;49m\u001b[39m.\u001b[39;49mconnect()\n\u001b[1;32m    976\u001b[0m     \u001b[39melse\u001b[39;00m:\n\u001b[1;32m    977\u001b[0m         \u001b[39mraise\u001b[39;00m NotConnected()\n",
      "File \u001b[0;32m/usr/lib/python3/dist-packages/urllib3/connection.py:200\u001b[0m, in \u001b[0;36mHTTPConnection.connect\u001b[0;34m(self)\u001b[0m\n\u001b[1;32m    199\u001b[0m \u001b[39mdef\u001b[39;00m \u001b[39mconnect\u001b[39m(\u001b[39mself\u001b[39m):\n\u001b[0;32m--> 200\u001b[0m     conn \u001b[39m=\u001b[39m \u001b[39mself\u001b[39;49m\u001b[39m.\u001b[39;49m_new_conn()\n\u001b[1;32m    201\u001b[0m     \u001b[39mself\u001b[39m\u001b[39m.\u001b[39m_prepare_conn(conn)\n",
      "File \u001b[0;32m/usr/lib/python3/dist-packages/urllib3/connection.py:169\u001b[0m, in \u001b[0;36mHTTPConnection._new_conn\u001b[0;34m(self)\u001b[0m\n\u001b[1;32m    166\u001b[0m     extra_kw[\u001b[39m\"\u001b[39m\u001b[39msocket_options\u001b[39m\u001b[39m\"\u001b[39m] \u001b[39m=\u001b[39m \u001b[39mself\u001b[39m\u001b[39m.\u001b[39msocket_options\n\u001b[1;32m    168\u001b[0m \u001b[39mtry\u001b[39;00m:\n\u001b[0;32m--> 169\u001b[0m     conn \u001b[39m=\u001b[39m connection\u001b[39m.\u001b[39;49mcreate_connection(\n\u001b[1;32m    170\u001b[0m         (\u001b[39mself\u001b[39;49m\u001b[39m.\u001b[39;49m_dns_host, \u001b[39mself\u001b[39;49m\u001b[39m.\u001b[39;49mport), \u001b[39mself\u001b[39;49m\u001b[39m.\u001b[39;49mtimeout, \u001b[39m*\u001b[39;49m\u001b[39m*\u001b[39;49mextra_kw\n\u001b[1;32m    171\u001b[0m     )\n\u001b[1;32m    173\u001b[0m \u001b[39mexcept\u001b[39;00m SocketTimeout:\n\u001b[1;32m    174\u001b[0m     \u001b[39mraise\u001b[39;00m ConnectTimeoutError(\n\u001b[1;32m    175\u001b[0m         \u001b[39mself\u001b[39m,\n\u001b[1;32m    176\u001b[0m         \u001b[39m\"\u001b[39m\u001b[39mConnection to \u001b[39m\u001b[39m%s\u001b[39;00m\u001b[39m timed out. (connect timeout=\u001b[39m\u001b[39m%s\u001b[39;00m\u001b[39m)\u001b[39m\u001b[39m\"\u001b[39m\n\u001b[1;32m    177\u001b[0m         \u001b[39m%\u001b[39m (\u001b[39mself\u001b[39m\u001b[39m.\u001b[39mhost, \u001b[39mself\u001b[39m\u001b[39m.\u001b[39mtimeout),\n\u001b[1;32m    178\u001b[0m     )\n",
      "File \u001b[0;32m/usr/lib/python3/dist-packages/urllib3/util/connection.py:86\u001b[0m, in \u001b[0;36mcreate_connection\u001b[0;34m(address, timeout, source_address, socket_options)\u001b[0m\n\u001b[1;32m     84\u001b[0m     \u001b[39mif\u001b[39;00m source_address:\n\u001b[1;32m     85\u001b[0m         sock\u001b[39m.\u001b[39mbind(source_address)\n\u001b[0;32m---> 86\u001b[0m     sock\u001b[39m.\u001b[39;49mconnect(sa)\n\u001b[1;32m     87\u001b[0m     \u001b[39mreturn\u001b[39;00m sock\n\u001b[1;32m     89\u001b[0m \u001b[39mexcept\u001b[39;00m socket\u001b[39m.\u001b[39merror \u001b[39mas\u001b[39;00m e:\n",
      "\u001b[0;31mKeyboardInterrupt\u001b[0m: "
     ]
    }
   ],
   "source": [
    "http_method = \"GET\"\n",
    "node_ip = 'osdp.ace.ac.ug'\n",
    "drs_port = \"5000\"\n",
    "# drs_ids = ['6fa43c7de04b60c1a73a42aa2efc977d','be145a60bc059c154475a2561af0df6b'] #authenticated\n",
    "drs_ids = ['c4b39bfcd30c59b70beb090fe4fdc2a1', 'c560c0bd4e98405adaf25534a588428b']\n",
    "object_path_get = \"/objects/{}\"\n",
    "object_path_post = \"/objects\"\n",
    "access_path = \"/objects/{}/access/{}\"\n",
    "\n",
    "for drs_id in drs_ids:\n",
    "    ga4gh_base_url = \"http://\" + node_ip + \":{}/ga4gh/{}/v1\"\n",
    "    drs_base_url = ga4gh_base_url.format(drs_port,\"drs\")\n",
    "    request_url = drs_base_url+object_path_get.format(drs_id)\n",
    "    print_head(\"{} request to {}\".format(http_method, request_url))\n",
    "    # GET request to /objects/{object_id} endpoint\n",
    "    drs_object_response = requests.request(http_method, request_url)\n",
    "    # print the response\n",
    "    pretty_print_json(drs_object_response)"
   ]
  },
  {
   "cell_type": "markdown",
   "id": "2062a93b",
   "metadata": {},
   "source": [
    "2.2 Check 196.43.136.22 (UVRI - Uganda)"
   ]
  },
  {
   "cell_type": "code",
   "execution_count": 52,
   "id": "bace8cca",
   "metadata": {},
   "outputs": [
    {
     "name": "stdout",
     "output_type": "stream",
     "text": [
      "\u001b[38;2;8;138;75mGET request to http://196.43.136.22:5000/ga4gh/drs/v1/objects/1050d0443c2e83f9d9a8933481dcb405\u001b[0m\n"
     ]
    },
    {
     "ename": "ConnectionError",
     "evalue": "HTTPConnectionPool(host='196.43.136.22', port=5000): Max retries exceeded with url: /ga4gh/drs/v1/objects/1050d0443c2e83f9d9a8933481dcb405 (Caused by NewConnectionError('<urllib3.connection.HTTPConnection object at 0x7f72f3f40850>: Failed to establish a new connection: [Errno 113] No route to host'))",
     "output_type": "error",
     "traceback": [
      "\u001b[0;31m---------------------------------------------------------------------------\u001b[0m",
      "\u001b[0;31mOSError\u001b[0m                                   Traceback (most recent call last)",
      "File \u001b[0;32m/usr/lib/python3/dist-packages/urllib3/connection.py:169\u001b[0m, in \u001b[0;36mHTTPConnection._new_conn\u001b[0;34m(self)\u001b[0m\n\u001b[1;32m    168\u001b[0m \u001b[39mtry\u001b[39;00m:\n\u001b[0;32m--> 169\u001b[0m     conn \u001b[39m=\u001b[39m connection\u001b[39m.\u001b[39;49mcreate_connection(\n\u001b[1;32m    170\u001b[0m         (\u001b[39mself\u001b[39;49m\u001b[39m.\u001b[39;49m_dns_host, \u001b[39mself\u001b[39;49m\u001b[39m.\u001b[39;49mport), \u001b[39mself\u001b[39;49m\u001b[39m.\u001b[39;49mtimeout, \u001b[39m*\u001b[39;49m\u001b[39m*\u001b[39;49mextra_kw\n\u001b[1;32m    171\u001b[0m     )\n\u001b[1;32m    173\u001b[0m \u001b[39mexcept\u001b[39;00m SocketTimeout:\n",
      "File \u001b[0;32m/usr/lib/python3/dist-packages/urllib3/util/connection.py:96\u001b[0m, in \u001b[0;36mcreate_connection\u001b[0;34m(address, timeout, source_address, socket_options)\u001b[0m\n\u001b[1;32m     95\u001b[0m \u001b[39mif\u001b[39;00m err \u001b[39mis\u001b[39;00m \u001b[39mnot\u001b[39;00m \u001b[39mNone\u001b[39;00m:\n\u001b[0;32m---> 96\u001b[0m     \u001b[39mraise\u001b[39;00m err\n\u001b[1;32m     98\u001b[0m \u001b[39mraise\u001b[39;00m socket\u001b[39m.\u001b[39merror(\u001b[39m\"\u001b[39m\u001b[39mgetaddrinfo returns an empty list\u001b[39m\u001b[39m\"\u001b[39m)\n",
      "File \u001b[0;32m/usr/lib/python3/dist-packages/urllib3/util/connection.py:86\u001b[0m, in \u001b[0;36mcreate_connection\u001b[0;34m(address, timeout, source_address, socket_options)\u001b[0m\n\u001b[1;32m     85\u001b[0m     sock\u001b[39m.\u001b[39mbind(source_address)\n\u001b[0;32m---> 86\u001b[0m sock\u001b[39m.\u001b[39;49mconnect(sa)\n\u001b[1;32m     87\u001b[0m \u001b[39mreturn\u001b[39;00m sock\n",
      "\u001b[0;31mOSError\u001b[0m: [Errno 113] No route to host",
      "\nDuring handling of the above exception, another exception occurred:\n",
      "\u001b[0;31mNewConnectionError\u001b[0m                        Traceback (most recent call last)",
      "File \u001b[0;32m/usr/lib/python3/dist-packages/urllib3/connectionpool.py:699\u001b[0m, in \u001b[0;36mHTTPConnectionPool.urlopen\u001b[0;34m(self, method, url, body, headers, retries, redirect, assert_same_host, timeout, pool_timeout, release_conn, chunked, body_pos, **response_kw)\u001b[0m\n\u001b[1;32m    698\u001b[0m \u001b[39m# Make the request on the httplib connection object.\u001b[39;00m\n\u001b[0;32m--> 699\u001b[0m httplib_response \u001b[39m=\u001b[39m \u001b[39mself\u001b[39;49m\u001b[39m.\u001b[39;49m_make_request(\n\u001b[1;32m    700\u001b[0m     conn,\n\u001b[1;32m    701\u001b[0m     method,\n\u001b[1;32m    702\u001b[0m     url,\n\u001b[1;32m    703\u001b[0m     timeout\u001b[39m=\u001b[39;49mtimeout_obj,\n\u001b[1;32m    704\u001b[0m     body\u001b[39m=\u001b[39;49mbody,\n\u001b[1;32m    705\u001b[0m     headers\u001b[39m=\u001b[39;49mheaders,\n\u001b[1;32m    706\u001b[0m     chunked\u001b[39m=\u001b[39;49mchunked,\n\u001b[1;32m    707\u001b[0m )\n\u001b[1;32m    709\u001b[0m \u001b[39m# If we're going to release the connection in ``finally:``, then\u001b[39;00m\n\u001b[1;32m    710\u001b[0m \u001b[39m# the response doesn't need to know about the connection. Otherwise\u001b[39;00m\n\u001b[1;32m    711\u001b[0m \u001b[39m# it will also try to release it and we'll have a double-release\u001b[39;00m\n\u001b[1;32m    712\u001b[0m \u001b[39m# mess.\u001b[39;00m\n",
      "File \u001b[0;32m/usr/lib/python3/dist-packages/urllib3/connectionpool.py:394\u001b[0m, in \u001b[0;36mHTTPConnectionPool._make_request\u001b[0;34m(self, conn, method, url, timeout, chunked, **httplib_request_kw)\u001b[0m\n\u001b[1;32m    393\u001b[0m     \u001b[39melse\u001b[39;00m:\n\u001b[0;32m--> 394\u001b[0m         conn\u001b[39m.\u001b[39;49mrequest(method, url, \u001b[39m*\u001b[39;49m\u001b[39m*\u001b[39;49mhttplib_request_kw)\n\u001b[1;32m    396\u001b[0m \u001b[39m# We are swallowing BrokenPipeError (errno.EPIPE) since the server is\u001b[39;00m\n\u001b[1;32m    397\u001b[0m \u001b[39m# legitimately able to close the connection after sending a valid response.\u001b[39;00m\n\u001b[1;32m    398\u001b[0m \u001b[39m# With this behaviour, the received response is still readable.\u001b[39;00m\n",
      "File \u001b[0;32m/usr/lib/python3/dist-packages/urllib3/connection.py:234\u001b[0m, in \u001b[0;36mHTTPConnection.request\u001b[0;34m(self, method, url, body, headers)\u001b[0m\n\u001b[1;32m    233\u001b[0m     headers[\u001b[39m\"\u001b[39m\u001b[39mUser-Agent\u001b[39m\u001b[39m\"\u001b[39m] \u001b[39m=\u001b[39m _get_default_user_agent()\n\u001b[0;32m--> 234\u001b[0m \u001b[39msuper\u001b[39;49m(HTTPConnection, \u001b[39mself\u001b[39;49m)\u001b[39m.\u001b[39;49mrequest(method, url, body\u001b[39m=\u001b[39;49mbody, headers\u001b[39m=\u001b[39;49mheaders)\n",
      "File \u001b[0;32m/usr/lib/python3.10/http/client.py:1282\u001b[0m, in \u001b[0;36mHTTPConnection.request\u001b[0;34m(self, method, url, body, headers, encode_chunked)\u001b[0m\n\u001b[1;32m   1281\u001b[0m \u001b[39m\u001b[39m\u001b[39m\"\"\"Send a complete request to the server.\"\"\"\u001b[39;00m\n\u001b[0;32m-> 1282\u001b[0m \u001b[39mself\u001b[39;49m\u001b[39m.\u001b[39;49m_send_request(method, url, body, headers, encode_chunked)\n",
      "File \u001b[0;32m/usr/lib/python3.10/http/client.py:1328\u001b[0m, in \u001b[0;36mHTTPConnection._send_request\u001b[0;34m(self, method, url, body, headers, encode_chunked)\u001b[0m\n\u001b[1;32m   1327\u001b[0m     body \u001b[39m=\u001b[39m _encode(body, \u001b[39m'\u001b[39m\u001b[39mbody\u001b[39m\u001b[39m'\u001b[39m)\n\u001b[0;32m-> 1328\u001b[0m \u001b[39mself\u001b[39;49m\u001b[39m.\u001b[39;49mendheaders(body, encode_chunked\u001b[39m=\u001b[39;49mencode_chunked)\n",
      "File \u001b[0;32m/usr/lib/python3.10/http/client.py:1277\u001b[0m, in \u001b[0;36mHTTPConnection.endheaders\u001b[0;34m(self, message_body, encode_chunked)\u001b[0m\n\u001b[1;32m   1276\u001b[0m     \u001b[39mraise\u001b[39;00m CannotSendHeader()\n\u001b[0;32m-> 1277\u001b[0m \u001b[39mself\u001b[39;49m\u001b[39m.\u001b[39;49m_send_output(message_body, encode_chunked\u001b[39m=\u001b[39;49mencode_chunked)\n",
      "File \u001b[0;32m/usr/lib/python3.10/http/client.py:1037\u001b[0m, in \u001b[0;36mHTTPConnection._send_output\u001b[0;34m(self, message_body, encode_chunked)\u001b[0m\n\u001b[1;32m   1036\u001b[0m \u001b[39mdel\u001b[39;00m \u001b[39mself\u001b[39m\u001b[39m.\u001b[39m_buffer[:]\n\u001b[0;32m-> 1037\u001b[0m \u001b[39mself\u001b[39;49m\u001b[39m.\u001b[39;49msend(msg)\n\u001b[1;32m   1039\u001b[0m \u001b[39mif\u001b[39;00m message_body \u001b[39mis\u001b[39;00m \u001b[39mnot\u001b[39;00m \u001b[39mNone\u001b[39;00m:\n\u001b[1;32m   1040\u001b[0m \n\u001b[1;32m   1041\u001b[0m     \u001b[39m# create a consistent interface to message_body\u001b[39;00m\n",
      "File \u001b[0;32m/usr/lib/python3.10/http/client.py:975\u001b[0m, in \u001b[0;36mHTTPConnection.send\u001b[0;34m(self, data)\u001b[0m\n\u001b[1;32m    974\u001b[0m \u001b[39mif\u001b[39;00m \u001b[39mself\u001b[39m\u001b[39m.\u001b[39mauto_open:\n\u001b[0;32m--> 975\u001b[0m     \u001b[39mself\u001b[39;49m\u001b[39m.\u001b[39;49mconnect()\n\u001b[1;32m    976\u001b[0m \u001b[39melse\u001b[39;00m:\n",
      "File \u001b[0;32m/usr/lib/python3/dist-packages/urllib3/connection.py:200\u001b[0m, in \u001b[0;36mHTTPConnection.connect\u001b[0;34m(self)\u001b[0m\n\u001b[1;32m    199\u001b[0m \u001b[39mdef\u001b[39;00m \u001b[39mconnect\u001b[39m(\u001b[39mself\u001b[39m):\n\u001b[0;32m--> 200\u001b[0m     conn \u001b[39m=\u001b[39m \u001b[39mself\u001b[39;49m\u001b[39m.\u001b[39;49m_new_conn()\n\u001b[1;32m    201\u001b[0m     \u001b[39mself\u001b[39m\u001b[39m.\u001b[39m_prepare_conn(conn)\n",
      "File \u001b[0;32m/usr/lib/python3/dist-packages/urllib3/connection.py:181\u001b[0m, in \u001b[0;36mHTTPConnection._new_conn\u001b[0;34m(self)\u001b[0m\n\u001b[1;32m    180\u001b[0m \u001b[39mexcept\u001b[39;00m SocketError \u001b[39mas\u001b[39;00m e:\n\u001b[0;32m--> 181\u001b[0m     \u001b[39mraise\u001b[39;00m NewConnectionError(\n\u001b[1;32m    182\u001b[0m         \u001b[39mself\u001b[39m, \u001b[39m\"\u001b[39m\u001b[39mFailed to establish a new connection: \u001b[39m\u001b[39m%s\u001b[39;00m\u001b[39m\"\u001b[39m \u001b[39m%\u001b[39m e\n\u001b[1;32m    183\u001b[0m     )\n\u001b[1;32m    185\u001b[0m \u001b[39mreturn\u001b[39;00m conn\n",
      "\u001b[0;31mNewConnectionError\u001b[0m: <urllib3.connection.HTTPConnection object at 0x7f72f3f40850>: Failed to establish a new connection: [Errno 113] No route to host",
      "\nDuring handling of the above exception, another exception occurred:\n",
      "\u001b[0;31mMaxRetryError\u001b[0m                             Traceback (most recent call last)",
      "File \u001b[0;32m/usr/lib/python3/dist-packages/requests/adapters.py:439\u001b[0m, in \u001b[0;36mHTTPAdapter.send\u001b[0;34m(self, request, stream, timeout, verify, cert, proxies)\u001b[0m\n\u001b[1;32m    438\u001b[0m \u001b[39mif\u001b[39;00m \u001b[39mnot\u001b[39;00m chunked:\n\u001b[0;32m--> 439\u001b[0m     resp \u001b[39m=\u001b[39m conn\u001b[39m.\u001b[39;49murlopen(\n\u001b[1;32m    440\u001b[0m         method\u001b[39m=\u001b[39;49mrequest\u001b[39m.\u001b[39;49mmethod,\n\u001b[1;32m    441\u001b[0m         url\u001b[39m=\u001b[39;49murl,\n\u001b[1;32m    442\u001b[0m         body\u001b[39m=\u001b[39;49mrequest\u001b[39m.\u001b[39;49mbody,\n\u001b[1;32m    443\u001b[0m         headers\u001b[39m=\u001b[39;49mrequest\u001b[39m.\u001b[39;49mheaders,\n\u001b[1;32m    444\u001b[0m         redirect\u001b[39m=\u001b[39;49m\u001b[39mFalse\u001b[39;49;00m,\n\u001b[1;32m    445\u001b[0m         assert_same_host\u001b[39m=\u001b[39;49m\u001b[39mFalse\u001b[39;49;00m,\n\u001b[1;32m    446\u001b[0m         preload_content\u001b[39m=\u001b[39;49m\u001b[39mFalse\u001b[39;49;00m,\n\u001b[1;32m    447\u001b[0m         decode_content\u001b[39m=\u001b[39;49m\u001b[39mFalse\u001b[39;49;00m,\n\u001b[1;32m    448\u001b[0m         retries\u001b[39m=\u001b[39;49m\u001b[39mself\u001b[39;49m\u001b[39m.\u001b[39;49mmax_retries,\n\u001b[1;32m    449\u001b[0m         timeout\u001b[39m=\u001b[39;49mtimeout\n\u001b[1;32m    450\u001b[0m     )\n\u001b[1;32m    452\u001b[0m \u001b[39m# Send the request.\u001b[39;00m\n\u001b[1;32m    453\u001b[0m \u001b[39melse\u001b[39;00m:\n",
      "File \u001b[0;32m/usr/lib/python3/dist-packages/urllib3/connectionpool.py:755\u001b[0m, in \u001b[0;36mHTTPConnectionPool.urlopen\u001b[0;34m(self, method, url, body, headers, retries, redirect, assert_same_host, timeout, pool_timeout, release_conn, chunked, body_pos, **response_kw)\u001b[0m\n\u001b[1;32m    753\u001b[0m     e \u001b[39m=\u001b[39m ProtocolError(\u001b[39m\"\u001b[39m\u001b[39mConnection aborted.\u001b[39m\u001b[39m\"\u001b[39m, e)\n\u001b[0;32m--> 755\u001b[0m retries \u001b[39m=\u001b[39m retries\u001b[39m.\u001b[39;49mincrement(\n\u001b[1;32m    756\u001b[0m     method, url, error\u001b[39m=\u001b[39;49me, _pool\u001b[39m=\u001b[39;49m\u001b[39mself\u001b[39;49m, _stacktrace\u001b[39m=\u001b[39;49msys\u001b[39m.\u001b[39;49mexc_info()[\u001b[39m2\u001b[39;49m]\n\u001b[1;32m    757\u001b[0m )\n\u001b[1;32m    758\u001b[0m retries\u001b[39m.\u001b[39msleep()\n",
      "File \u001b[0;32m/usr/lib/python3/dist-packages/urllib3/util/retry.py:574\u001b[0m, in \u001b[0;36mRetry.increment\u001b[0;34m(self, method, url, response, error, _pool, _stacktrace)\u001b[0m\n\u001b[1;32m    573\u001b[0m \u001b[39mif\u001b[39;00m new_retry\u001b[39m.\u001b[39mis_exhausted():\n\u001b[0;32m--> 574\u001b[0m     \u001b[39mraise\u001b[39;00m MaxRetryError(_pool, url, error \u001b[39mor\u001b[39;00m ResponseError(cause))\n\u001b[1;32m    576\u001b[0m log\u001b[39m.\u001b[39mdebug(\u001b[39m\"\u001b[39m\u001b[39mIncremented Retry for (url=\u001b[39m\u001b[39m'\u001b[39m\u001b[39m%s\u001b[39;00m\u001b[39m'\u001b[39m\u001b[39m): \u001b[39m\u001b[39m%r\u001b[39;00m\u001b[39m\"\u001b[39m, url, new_retry)\n",
      "\u001b[0;31mMaxRetryError\u001b[0m: HTTPConnectionPool(host='196.43.136.22', port=5000): Max retries exceeded with url: /ga4gh/drs/v1/objects/1050d0443c2e83f9d9a8933481dcb405 (Caused by NewConnectionError('<urllib3.connection.HTTPConnection object at 0x7f72f3f40850>: Failed to establish a new connection: [Errno 113] No route to host'))",
      "\nDuring handling of the above exception, another exception occurred:\n",
      "\u001b[0;31mConnectionError\u001b[0m                           Traceback (most recent call last)",
      "\u001b[1;32m/home/taku/elwazi-pilot-node-install/resources/south-africa/orchestrator/elwazi-pilot-node-tests.ipynb Cell 16\u001b[0m line \u001b[0;36m1\n\u001b[1;32m     <a href='vscode-notebook-cell://ssh-remote%2Bga4gh-starter-kit.ilifu.ac.za/home/taku/elwazi-pilot-node-install/resources/south-africa/orchestrator/elwazi-pilot-node-tests.ipynb#X16sdnNjb2RlLXJlbW90ZQ%3D%3D?line=12'>13</a>\u001b[0m print_head(\u001b[39m\"\u001b[39m\u001b[39m{}\u001b[39;00m\u001b[39m request to \u001b[39m\u001b[39m{}\u001b[39;00m\u001b[39m\"\u001b[39m\u001b[39m.\u001b[39mformat(http_method, request_url))\n\u001b[1;32m     <a href='vscode-notebook-cell://ssh-remote%2Bga4gh-starter-kit.ilifu.ac.za/home/taku/elwazi-pilot-node-install/resources/south-africa/orchestrator/elwazi-pilot-node-tests.ipynb#X16sdnNjb2RlLXJlbW90ZQ%3D%3D?line=13'>14</a>\u001b[0m \u001b[39m# GET request to /objects/{object_id} endpoint\u001b[39;00m\n\u001b[0;32m---> <a href='vscode-notebook-cell://ssh-remote%2Bga4gh-starter-kit.ilifu.ac.za/home/taku/elwazi-pilot-node-install/resources/south-africa/orchestrator/elwazi-pilot-node-tests.ipynb#X16sdnNjb2RlLXJlbW90ZQ%3D%3D?line=14'>15</a>\u001b[0m drs_object_response \u001b[39m=\u001b[39m requests\u001b[39m.\u001b[39;49mrequest(http_method, request_url)\n\u001b[1;32m     <a href='vscode-notebook-cell://ssh-remote%2Bga4gh-starter-kit.ilifu.ac.za/home/taku/elwazi-pilot-node-install/resources/south-africa/orchestrator/elwazi-pilot-node-tests.ipynb#X16sdnNjb2RlLXJlbW90ZQ%3D%3D?line=15'>16</a>\u001b[0m \u001b[39m# print the response\u001b[39;00m\n\u001b[1;32m     <a href='vscode-notebook-cell://ssh-remote%2Bga4gh-starter-kit.ilifu.ac.za/home/taku/elwazi-pilot-node-install/resources/south-africa/orchestrator/elwazi-pilot-node-tests.ipynb#X16sdnNjb2RlLXJlbW90ZQ%3D%3D?line=16'>17</a>\u001b[0m pretty_print_json(drs_object_response)\n",
      "File \u001b[0;32m/usr/lib/python3/dist-packages/requests/api.py:61\u001b[0m, in \u001b[0;36mrequest\u001b[0;34m(method, url, **kwargs)\u001b[0m\n\u001b[1;32m     57\u001b[0m \u001b[39m# By using the 'with' statement we are sure the session is closed, thus we\u001b[39;00m\n\u001b[1;32m     58\u001b[0m \u001b[39m# avoid leaving sockets open which can trigger a ResourceWarning in some\u001b[39;00m\n\u001b[1;32m     59\u001b[0m \u001b[39m# cases, and look like a memory leak in others.\u001b[39;00m\n\u001b[1;32m     60\u001b[0m \u001b[39mwith\u001b[39;00m sessions\u001b[39m.\u001b[39mSession() \u001b[39mas\u001b[39;00m session:\n\u001b[0;32m---> 61\u001b[0m     \u001b[39mreturn\u001b[39;00m session\u001b[39m.\u001b[39;49mrequest(method\u001b[39m=\u001b[39;49mmethod, url\u001b[39m=\u001b[39;49murl, \u001b[39m*\u001b[39;49m\u001b[39m*\u001b[39;49mkwargs)\n",
      "File \u001b[0;32m/usr/lib/python3/dist-packages/requests/sessions.py:542\u001b[0m, in \u001b[0;36mSession.request\u001b[0;34m(self, method, url, params, data, headers, cookies, files, auth, timeout, allow_redirects, proxies, hooks, stream, verify, cert, json)\u001b[0m\n\u001b[1;32m    537\u001b[0m send_kwargs \u001b[39m=\u001b[39m {\n\u001b[1;32m    538\u001b[0m     \u001b[39m'\u001b[39m\u001b[39mtimeout\u001b[39m\u001b[39m'\u001b[39m: timeout,\n\u001b[1;32m    539\u001b[0m     \u001b[39m'\u001b[39m\u001b[39mallow_redirects\u001b[39m\u001b[39m'\u001b[39m: allow_redirects,\n\u001b[1;32m    540\u001b[0m }\n\u001b[1;32m    541\u001b[0m send_kwargs\u001b[39m.\u001b[39mupdate(settings)\n\u001b[0;32m--> 542\u001b[0m resp \u001b[39m=\u001b[39m \u001b[39mself\u001b[39;49m\u001b[39m.\u001b[39;49msend(prep, \u001b[39m*\u001b[39;49m\u001b[39m*\u001b[39;49msend_kwargs)\n\u001b[1;32m    544\u001b[0m \u001b[39mreturn\u001b[39;00m resp\n",
      "File \u001b[0;32m/usr/lib/python3/dist-packages/requests/sessions.py:655\u001b[0m, in \u001b[0;36mSession.send\u001b[0;34m(self, request, **kwargs)\u001b[0m\n\u001b[1;32m    652\u001b[0m start \u001b[39m=\u001b[39m preferred_clock()\n\u001b[1;32m    654\u001b[0m \u001b[39m# Send the request\u001b[39;00m\n\u001b[0;32m--> 655\u001b[0m r \u001b[39m=\u001b[39m adapter\u001b[39m.\u001b[39;49msend(request, \u001b[39m*\u001b[39;49m\u001b[39m*\u001b[39;49mkwargs)\n\u001b[1;32m    657\u001b[0m \u001b[39m# Total elapsed time of the request (approximately)\u001b[39;00m\n\u001b[1;32m    658\u001b[0m elapsed \u001b[39m=\u001b[39m preferred_clock() \u001b[39m-\u001b[39m start\n",
      "File \u001b[0;32m/usr/lib/python3/dist-packages/requests/adapters.py:516\u001b[0m, in \u001b[0;36mHTTPAdapter.send\u001b[0;34m(self, request, stream, timeout, verify, cert, proxies)\u001b[0m\n\u001b[1;32m    512\u001b[0m     \u001b[39mif\u001b[39;00m \u001b[39misinstance\u001b[39m(e\u001b[39m.\u001b[39mreason, _SSLError):\n\u001b[1;32m    513\u001b[0m         \u001b[39m# This branch is for urllib3 v1.22 and later.\u001b[39;00m\n\u001b[1;32m    514\u001b[0m         \u001b[39mraise\u001b[39;00m SSLError(e, request\u001b[39m=\u001b[39mrequest)\n\u001b[0;32m--> 516\u001b[0m     \u001b[39mraise\u001b[39;00m \u001b[39mConnectionError\u001b[39;00m(e, request\u001b[39m=\u001b[39mrequest)\n\u001b[1;32m    518\u001b[0m \u001b[39mexcept\u001b[39;00m ClosedPoolError \u001b[39mas\u001b[39;00m e:\n\u001b[1;32m    519\u001b[0m     \u001b[39mraise\u001b[39;00m \u001b[39mConnectionError\u001b[39;00m(e, request\u001b[39m=\u001b[39mrequest)\n",
      "\u001b[0;31mConnectionError\u001b[0m: HTTPConnectionPool(host='196.43.136.22', port=5000): Max retries exceeded with url: /ga4gh/drs/v1/objects/1050d0443c2e83f9d9a8933481dcb405 (Caused by NewConnectionError('<urllib3.connection.HTTPConnection object at 0x7f72f3f40850>: Failed to establish a new connection: [Errno 113] No route to host'))"
     ]
    }
   ],
   "source": [
    "http_method = \"GET\"\n",
    "node_ip = '196.43.136.22' #UVRI - Uganda\n",
    "drs_port = \"5000\"\n",
    "drs_ids = ['1050d0443c2e83f9d9a8933481dcb405','be04a5a90617aeae9a05fb533f544ade']\n",
    "object_path_get = \"/objects/{}\"\n",
    "object_path_post = \"/objects\"\n",
    "access_path = \"/objects/{}/access/{}\"\n",
    "\n",
    "for drs_id in drs_ids:\n",
    "    ga4gh_base_url = \"http://\" + node_ip + \":{}/ga4gh/{}/v1\"\n",
    "    drs_base_url = ga4gh_base_url.format(drs_port,\"drs\")\n",
    "    request_url = drs_base_url+object_path_get.format(drs_id)\n",
    "    print_head(\"{} request to {}\".format(http_method, request_url))\n",
    "    # GET request to /objects/{object_id} endpoint\n",
    "    drs_object_response = requests.request(http_method, request_url)\n",
    "    # print the response\n",
    "    pretty_print_json(drs_object_response)"
   ]
  },
  {
   "cell_type": "markdown",
   "id": "2f720489-f871-4c82-b73d-3249ba10ea02",
   "metadata": {},
   "source": [
    "3. Check elwazi-node.icermali.org (Mali)"
   ]
  },
  {
   "cell_type": "code",
   "execution_count": 9,
   "id": "d1a4eecd-3f34-4157-8822-d721cdb3daaf",
   "metadata": {},
   "outputs": [
    {
     "name": "stdout",
     "output_type": "stream",
     "text": [
      "\u001b[38;2;8;138;75mGET request to http://elwazi-node.icermali.org:5000/ga4gh/drs/v1/objects/c276d04bacfaf6540b947340addf2670\u001b[0m\n",
      "\u001b[38;2;8;75;138m{\n",
      "    \"id\": \"c276d04bacfaf6540b947340addf2670\",\n",
      "    \"description\": \"Patient: NA19379, Country: LWK, Region: AFR, Sex: female\\n\",\n",
      "    \"created_time\": \"2023-12-09T09:26:35Z\",\n",
      "    \"mime_type\": \"application/crai\",\n",
      "    \"name\": \"NA19379.final.chrX_15494566-15607236.cram\",\n",
      "    \"size\": 0,\n",
      "    \"updated_time\": \"2023-12-09T09:26:35Z\",\n",
      "    \"checksums\": [\n",
      "        {\n",
      "            \"checksum\": \"fed901adb4f5a734ced0057ac6cea06591f0ed37\",\n",
      "            \"type\": \"sha1\"\n",
      "        },\n",
      "        {\n",
      "            \"checksum\": \"33623088a878177903d8bf2fe6331b4a4042ce7958dee6870cf5e24d291f0324\",\n",
      "            \"type\": \"sha256\"\n",
      "        },\n",
      "        {\n",
      "            \"checksum\": \"c276d04bacfaf6540b947340addf2670\",\n",
      "            \"type\": \"md5\"\n",
      "        }\n",
      "    ],\n",
      "    \"self_uri\": \"drs://elwazi-node.icermali.org:5000/c276d04bacfaf6540b947340addf2670\",\n",
      "    \"access_methods\": [\n",
      "        {\n",
      "            \"access_url\": {\n",
      "                \"url\": \"file:///share/elwazi/crams/NA19379/NA19379.final.chrX_15494566-15607236.cram.crai\"\n",
      "            },\n",
      "            \"type\": \"file\"\n",
      "        },\n",
      "        {\n",
      "            \"access_id\": \"a72d9a94-fc31-417a-af46-bcc3715b79d1\",\n",
      "            \"type\": \"https\"\n",
      "        }\n",
      "    ]\n",
      "}\u001b[0m\n",
      "\u001b[38;2;8;138;75mGET request to http://elwazi-node.icermali.org:5000/ga4gh/drs/v1/objects/c080e08c01ec46446bb16801c7abe5b2\u001b[0m\n",
      "\u001b[38;2;8;75;138m{\n",
      "    \"id\": \"c080e08c01ec46446bb16801c7abe5b2\",\n",
      "    \"description\": \"Patient: HG03304, Country: ESN, Region: AFR, Sex: male\\n\",\n",
      "    \"created_time\": \"2023-12-09T09:26:35Z\",\n",
      "    \"mime_type\": \"application/crai\",\n",
      "    \"name\": \"HG03304.final.chrX_15494566-15607236.cram\",\n",
      "    \"size\": 0,\n",
      "    \"updated_time\": \"2023-12-09T09:26:35Z\",\n",
      "    \"checksums\": [\n",
      "        {\n",
      "            \"checksum\": \"8a4428579e269051e686282fde6c22c6e8c1752a\",\n",
      "            \"type\": \"sha1\"\n",
      "        },\n",
      "        {\n",
      "            \"checksum\": \"5ba265d5863f90e3955cc74c41cc5bd567aaa3c6646ee708792ee661d632b60a\",\n",
      "            \"type\": \"sha256\"\n",
      "        },\n",
      "        {\n",
      "            \"checksum\": \"c080e08c01ec46446bb16801c7abe5b2\",\n",
      "            \"type\": \"md5\"\n",
      "        }\n",
      "    ],\n",
      "    \"self_uri\": \"drs://elwazi-node.icermali.org:5000/c080e08c01ec46446bb16801c7abe5b2\",\n",
      "    \"access_methods\": [\n",
      "        {\n",
      "            \"access_url\": {\n",
      "                \"url\": \"file:///share/elwazi/crams/HG03304/HG03304.final.chrX_15494566-15607236.cram.crai\"\n",
      "            },\n",
      "            \"type\": \"file\"\n",
      "        },\n",
      "        {\n",
      "            \"access_id\": \"5197653d-f144-4b3f-a61f-f1f62794294d\",\n",
      "            \"type\": \"https\"\n",
      "        }\n",
      "    ]\n",
      "}\u001b[0m\n"
     ]
    }
   ],
   "source": [
    "http_method = \"GET\"\n",
    "node_ip = 'elwazi-node.icermali.org'\n",
    "drs_port = \"5000\"\n",
    "# drs_ids = ['a68c60133f942881983d0e15827bf88f','168d353c6f474ca72e35e9209f921a59'] #authenticated\n",
    "drs_ids = ['c276d04bacfaf6540b947340addf2670', 'c080e08c01ec46446bb16801c7abe5b2']\n",
    "object_path_get = \"/objects/{}\"\n",
    "object_path_post = \"/objects\"\n",
    "access_path = \"/objects/{}/access/{}\"\n",
    "\n",
    "for drs_id in drs_ids:\n",
    "    ga4gh_base_url = \"http://\" + node_ip + \":{}/ga4gh/{}/v1\"\n",
    "    drs_base_url = ga4gh_base_url.format(drs_port,\"drs\")\n",
    "    request_url = drs_base_url+object_path_get.format(drs_id)\n",
    "    print_head(\"{} request to {}\".format(http_method, request_url))\n",
    "    # GET request to /objects/{object_id} endpoint\n",
    "    drs_object_response = requests.request(http_method, request_url)\n",
    "    # print the response\n",
    "    pretty_print_json(drs_object_response)\n"
   ]
  },
  {
   "cell_type": "markdown",
   "id": "d1e61f33-2d47-4e25-a55d-80abd80a5665",
   "metadata": {},
   "source": [
    "## Launch workflow on test DRS objects from South-Africa, Mali and Uganda (using WES on ga4gh-starter-kit.ilifu.ac.za, elwazi-node.icermali.org or osdp.ace.ac.ug and 196.43.136.22)"
   ]
  },
  {
   "cell_type": "markdown",
   "id": "927a320d-db5f-499e-b933-1b081af3c3f3",
   "metadata": {},
   "source": [
    "1. Launch workflow\n",
    "- Change the node_ip to run on a different WES endpoint\n",
    "- Change the infput_file to run on different DRS objects"
   ]
  },
  {
   "cell_type": "code",
   "execution_count": 10,
   "id": "df195001-4adf-4142-8800-a6a548cf1859",
   "metadata": {},
   "outputs": [
    {
     "name": "stdout",
     "output_type": "stream",
     "text": [
      "\u001b[38;2;8;138;75mPOST request to http://elwazi-node.icermali.org:6000/ga4gh/wes/v1/runs\u001b[0m\n",
      "\u001b[38;2;8;75;138m{\n",
      "    \"run_id\": \"1da569de-f7fe-4199-82d6-60109424fbd1\"\n",
      "}\u001b[0m\n",
      "\u001b[38;2;8;138;75mrun_id = 1da569de-f7fe-4199-82d6-60109424fbd1\u001b[0m\n"
     ]
    }
   ],
   "source": [
    "# node_ip = 'ga4gh-starter-kit.ilifu.ac.za'\n",
    "node_ip = 'elwazi-node.icermali.org'\n",
    "# node_ip = 'osdp.ace.ac.ug'\n",
    "#node_ip = '196.43.136.22' #UVRI\n",
    "wes_port = \"6000\"\n",
    "service_info_path = \"/service-info\"\n",
    "runs_path = \"/runs\"\n",
    "http_method = \"GET\"\n",
    "ga4gh_base_url = \"http://\" + node_ip + \":{}/ga4gh/{}/v1\"\n",
    "wes_base_url = ga4gh_base_url.format(wes_port,\"wes\")\n",
    "\n",
    "http_method = \"POST\"\n",
    "request_url = wes_base_url + runs_path\n",
    "\n",
    "nextflow_workflow_url = \"https://github.com/grbot/cram-qc\"\n",
    "\n",
    "#ACE-Mali\n",
    "# input_file = \"drs://elwazi-node.icermali.org:5000/a68c60133f942881983d0e15827bf88f drs://elwazi-node.icermali.org:5000/168d353c6f474ca72e35e9209f921a59\"\n",
    "input_file = \"drs://elwazi-node.icermali.org:5000/c276d04bacfaf6540b947340addf2670 drs://elwazi-node.icermali.org:5000/c080e08c01ec46446bb16801c7abe5b2\"\n",
    "\n",
    "#UVRI\n",
    "# input_file = \"drs://196.43.136.22:5000/1050d0443c2e83f9d9a8933481dcb405 drs://196.43.136.22:5000/be04a5a90617aeae9a05fb533f544ade\"\n",
    "\n",
    "#ilifu\n",
    "# input_file = \"drs://ga4gh-starter-kit.ilifu.ac.za:5000/91860745a820a28b6c37d60432925bed drs://ga4gh-starter-kit.ilifu.ac.za:5000/3520f407daf560b1732b9e026879eae4\"\n",
    "# input_file = \"drs://ga4gh-starter-kit.ilifu.ac.za:5000/cf99eed44d272c7a9146a7f3216c8bd1 drs://ga4gh-starter-kit.ilifu.ac.za:5000/c3465aa1f0ef8773d5eede6c23e8e9b2\"\n",
    "\n",
    "#OSDP\n",
    "# input_file = \"drs://osdp.ace.ac.ug:5000/c3e615325a81b4568b1c355ab7b804d5 drs://osdp.ace.ac.ug:5000/cd2e5e057f112d609f901cdf151d8dee\" \n",
    "# input_file = \"drs://osdp.ace.ac.ug:5000/6fa43c7de04b60c1a73a42aa2efc977d drs://osdp.ace.ac.ug:5000/be145a60bc059c154475a2561af0df6b\" \n",
    "\n",
    "data = {\n",
    "    'workflow_type': 'NEXTFLOW',\n",
    "    'workflow_type_version': '21.04.0',\n",
    "    'workflow_url': nextflow_workflow_url,\n",
    "    'workflow_params': f'{{\"input\":\"{input_file}\"}}'\n",
    "}\n",
    "\n",
    "print_head(\"{} request to {}\".format(http_method, request_url))\n",
    "\n",
    "# Post a Nextflow workflow\n",
    "wes_post_workflow_response = requests.request(http_method, request_url, data = data)\n",
    "\n",
    "# print the response\n",
    "pretty_print_json(wes_post_workflow_response)\n",
    "\n",
    "current_run_id = wes_post_workflow_response.json()[\"run_id\"]\n",
    "\n",
    "print_head(\"run_id = {}\".format(current_run_id))"
   ]
  },
  {
   "cell_type": "markdown",
   "id": "76bc7ac8-fed5-4567-beea-61fa4a0c3958",
   "metadata": {},
   "source": [
    "2. Check output"
   ]
  },
  {
   "cell_type": "code",
   "execution_count": 11,
   "id": "abff2d1f-a3ea-42d3-b20d-1a036b4f89ca",
   "metadata": {},
   "outputs": [
    {
     "name": "stdout",
     "output_type": "stream",
     "text": [
      "\u001b[38;2;8;138;75mGET request to http://elwazi-node.icermali.org:6000/ga4gh/wes/v1/runs/1da569de-f7fe-4199-82d6-60109424fbd1\u001b[0m\n",
      "\u001b[38;2;8;75;138m{\n",
      "    \"run_id\": \"1da569de-f7fe-4199-82d6-60109424fbd1\",\n",
      "    \"request\": {\n",
      "        \"workflow_params\": {\n",
      "            \"input\": \"drs://elwazi-node.icermali.org:5000/c276d04bacfaf6540b947340addf2670 drs://elwazi-node.icermali.org:5000/c080e08c01ec46446bb16801c7abe5b2\"\n",
      "        },\n",
      "        \"workflow_type\": \"NEXTFLOW\",\n",
      "        \"workflow_type_version\": \"21.04.0\",\n",
      "        \"workflow_url\": \"https://github.com/grbot/cram-qc\"\n",
      "    },\n",
      "    \"state\": \"RUNNING\",\n",
      "    \"run_log\": {\n",
      "        \"name\": \"grbot/cram-qc\",\n",
      "        \"cmd\": [\n",
      "            \"#!/bin/bash -ue\",\n",
      "            \"samtools flagstat     -@ 1     NA19379.final.chrX_15494566-15607236.cram.crai > NA19379.final.chrX_15494566-15607236.cram.crai.flagstat\",\n",
      "            \"#!/bin/bash -ue\",\n",
      "            \"samtools flagstat     -@ 1     HG03304.final.chrX_15494566-15607236.cram.crai > HG03304.final.chrX_15494566-15607236.cram.crai.flagstat\",\n",
      "            \"#!/bin/bash -ue\",\n",
      "            \"multiqc .\"\n",
      "        ],\n",
      "        \"start_time\": \"2023-12-11T07:45:52Z\",\n",
      "        \"stdout\": \"http://elwazi-node.icermali.org:6000/ga4gh/wes/v1/logs/nextflow/stdout/1da569de-f7fe-4199-82d6-60109424fbd1?workdirs=19%2Fe2ee7e24e017404cd5612e4714f3f5%2C55%2Fba8ff129abe9e0f985b357a1c65af4%2Cd7%2F54d4f8f2565069c1e683a0b24da2c2\",\n",
      "        \"stderr\": \"http://elwazi-node.icermali.org:6000/ga4gh/wes/v1/logs/nextflow/stderr/1da569de-f7fe-4199-82d6-60109424fbd1?workdirs=19%2Fe2ee7e24e017404cd5612e4714f3f5%2C55%2Fba8ff129abe9e0f985b357a1c65af4%2Cd7%2F54d4f8f2565069c1e683a0b24da2c2\"\n",
      "    },\n",
      "    \"task_logs\": [\n",
      "        {\n",
      "            \"name\": \"run_flagstat (1)\",\n",
      "            \"cmd\": [\n",
      "                \"#!/bin/bash -ue\",\n",
      "                \"samtools flagstat     -@ 1     NA19379.final.chrX_15494566-15607236.cram.crai > NA19379.final.chrX_15494566-15607236.cram.crai.flagstat\"\n",
      "            ],\n",
      "            \"start_time\": \"2023-12-11T07:45:52Z\",\n",
      "            \"end_time\": \"2023-12-11T07:45:52Z\",\n",
      "            \"stdout\": \"http://elwazi-node.icermali.org:6000/ga4gh/wes/v1/logs/nextflow/stdout/1da569de-f7fe-4199-82d6-60109424fbd1/19/e2ee7e24e017404cd5612e4714f3f5\",\n",
      "            \"stderr\": \"http://elwazi-node.icermali.org:6000/ga4gh/wes/v1/logs/nextflow/stderr/1da569de-f7fe-4199-82d6-60109424fbd1/19/e2ee7e24e017404cd5612e4714f3f5\",\n",
      "            \"exit_code\": 0\n",
      "        },\n",
      "        {\n",
      "            \"name\": \"run_flagstat (2)\",\n",
      "            \"cmd\": [\n",
      "                \"#!/bin/bash -ue\",\n",
      "                \"samtools flagstat     -@ 1     HG03304.final.chrX_15494566-15607236.cram.crai > HG03304.final.chrX_15494566-15607236.cram.crai.flagstat\"\n",
      "            ],\n",
      "            \"start_time\": \"2023-12-11T07:45:52Z\",\n",
      "            \"end_time\": \"2023-12-11T07:45:52Z\",\n",
      "            \"stdout\": \"http://elwazi-node.icermali.org:6000/ga4gh/wes/v1/logs/nextflow/stdout/1da569de-f7fe-4199-82d6-60109424fbd1/55/ba8ff129abe9e0f985b357a1c65af4\",\n",
      "            \"stderr\": \"http://elwazi-node.icermali.org:6000/ga4gh/wes/v1/logs/nextflow/stderr/1da569de-f7fe-4199-82d6-60109424fbd1/55/ba8ff129abe9e0f985b357a1c65af4\",\n",
      "            \"exit_code\": 0\n",
      "        },\n",
      "        {\n",
      "            \"name\": \"run_multiqc\",\n",
      "            \"cmd\": [\n",
      "                \"#!/bin/bash -ue\",\n",
      "                \"multiqc .\"\n",
      "            ],\n",
      "            \"start_time\": \"2023-12-11T07:45:53Z\",\n",
      "            \"stdout\": \"http://elwazi-node.icermali.org:6000/ga4gh/wes/v1/logs/nextflow/stdout/1da569de-f7fe-4199-82d6-60109424fbd1/d7/54d4f8f2565069c1e683a0b24da2c2\",\n",
      "            \"stderr\": \"http://elwazi-node.icermali.org:6000/ga4gh/wes/v1/logs/nextflow/stderr/1da569de-f7fe-4199-82d6-60109424fbd1/d7/54d4f8f2565069c1e683a0b24da2c2\"\n",
      "        }\n",
      "    ],\n",
      "    \"outputs\": {\n",
      "        \"NA19379.final.chrX_15494566-15607236.cram.crai\": \"file:///opt/ga4gh-starter-kit-wes/wes_runs/1d/a5/69/1da569de-f7fe-4199-82d6-60109424fbd1/work/19/e2ee7e24e017404cd5612e4714f3f5/NA19379.final.chrX_15494566-15607236.cram.crai\",\n",
      "        \"HG03304.final.chrX_15494566-15607236.cram.crai\": \"file:///opt/ga4gh-starter-kit-wes/wes_runs/1d/a5/69/1da569de-f7fe-4199-82d6-60109424fbd1/work/55/ba8ff129abe9e0f985b357a1c65af4/HG03304.final.chrX_15494566-15607236.cram.crai\",\n",
      "        \"NA19379.final.chrX_15494566-15607236.cram.crai.flagstat\": \"file:///opt/ga4gh-starter-kit-wes/wes_runs/1d/a5/69/1da569de-f7fe-4199-82d6-60109424fbd1/work/19/e2ee7e24e017404cd5612e4714f3f5/NA19379.final.chrX_15494566-15607236.cram.crai.flagstat\",\n",
      "        \"HG03304.final.chrX_15494566-15607236.cram.crai.flagstat\": \"file:///opt/ga4gh-starter-kit-wes/wes_runs/1d/a5/69/1da569de-f7fe-4199-82d6-60109424fbd1/work/55/ba8ff129abe9e0f985b357a1c65af4/HG03304.final.chrX_15494566-15607236.cram.crai.flagstat\"\n",
      "    }\n",
      "}\u001b[0m\n"
     ]
    }
   ],
   "source": [
    "http_method = \"GET\"\n",
    "request_url = wes_base_url + runs_path + \"/\" + current_run_id\n",
    "\n",
    "print_head(\"{} request to {}\".format(http_method, request_url))\n",
    "\n",
    "# Get request to /runs/{run_id}\n",
    "monitor_run_response = requests.request(http_method, request_url)\n",
    "\n",
    "# print the response\n",
    "pretty_print_json(monitor_run_response)"
   ]
  },
  {
   "cell_type": "markdown",
   "id": "e0675b09-c15f-474f-8588-ba473df8b3d6",
   "metadata": {},
   "source": [
    "# Data Connect\n",
    "1. Check service-info"
   ]
  },
  {
   "cell_type": "code",
   "execution_count": 12,
   "id": "dda9ab0a-34f5-4f60-a3e5-34757a9fe5d9",
   "metadata": {},
   "outputs": [],
   "source": [
    "import requests\n",
    "import json\n",
    "\n",
    "dc_port = \"8089\"\n",
    "dc_base_url = \"http://ga4gh-starter-kit.ilifu.ac.za:{}\".format(dc_port)\n",
    "\n",
    "\n",
    "service_info_path = \"/service-info\"\n",
    "tables_path = \"/tables\"\n",
    "table_info_path = \"/table/{}/info\"\n",
    "table_data_path = \"/table/{}/data\"\n",
    "search_path = \"/search\"\n",
    "\n",
    "def pretty_print_json(response):\n",
    "    print(json.dumps(response.json(), indent=4))"
   ]
  },
  {
   "cell_type": "code",
   "execution_count": 13,
   "id": "7a106ce7-2db0-4dc2-b93c-0973e4376926",
   "metadata": {},
   "outputs": [
    {
     "name": "stdout",
     "output_type": "stream",
     "text": [
      "http://ga4gh-starter-kit.ilifu.ac.za:8089/service-info\n",
      "{\n",
      "    \"id\": \"\",\n",
      "    \"name\": \"GA4GH Discovery Search API\",\n",
      "    \"description\": \"\",\n",
      "    \"documentationUrl\": \"\",\n",
      "    \"contactUrl\": \"\",\n",
      "    \"version\": \"\"\n",
      "}\n"
     ]
    }
   ],
   "source": [
    "dc_service_info_resp = requests.request(\"GET\", dc_base_url+service_info_path)\n",
    "print(dc_base_url+service_info_path)\n",
    "pretty_print_json(dc_service_info_resp)"
   ]
  },
  {
   "cell_type": "markdown",
   "id": "cfd92537-f058-48cc-a9f1-d5d46db93046",
   "metadata": {},
   "source": [
    "2. Check data table we will be querying"
   ]
  },
  {
   "cell_type": "code",
   "execution_count": 14,
   "id": "62d9b681-0384-4565-8ef3-b058784afcdc",
   "metadata": {},
   "outputs": [
    {
     "name": "stdout",
     "output_type": "stream",
     "text": [
      "{\n",
      "    \"name\": \"trino.public.genome_ilifu\",\n",
      "    \"description\": \"Automatically generated schema\",\n",
      "    \"data_model\": {\n",
      "        \"$id\": \"http://ga4gh-starter-kit.ilifu.ac.za:8089/table/trino.public.genome_ilifu/info\",\n",
      "        \"description\": \"Automatically generated schema\",\n",
      "        \"$schema\": \"http://json-schema.org/draft-07/schema#\",\n",
      "        \"properties\": {\n",
      "            \"sample_id\": {\n",
      "                \"format\": \"varchar\",\n",
      "                \"type\": \"string\",\n",
      "                \"$comment\": \"varchar\"\n",
      "            },\n",
      "            \"population_id\": {\n",
      "                \"format\": \"varchar\",\n",
      "                \"type\": \"string\",\n",
      "                \"$comment\": \"varchar\"\n",
      "            },\n",
      "            \"super_population_id\": {\n",
      "                \"format\": \"varchar\",\n",
      "                \"type\": \"string\",\n",
      "                \"$comment\": \"varchar\"\n",
      "            },\n",
      "            \"sex\": {\n",
      "                \"format\": \"varchar\",\n",
      "                \"type\": \"string\",\n",
      "                \"$comment\": \"varchar\"\n",
      "            },\n",
      "            \"cram_drs_id\": {\n",
      "                \"format\": \"varchar\",\n",
      "                \"type\": \"string\",\n",
      "                \"$comment\": \"varchar\"\n",
      "            },\n",
      "            \"crai_drs_id\": {\n",
      "                \"format\": \"varchar\",\n",
      "                \"type\": \"string\",\n",
      "                \"$comment\": \"varchar\"\n",
      "            }\n",
      "        }\n",
      "    }\n",
      "}\n"
     ]
    }
   ],
   "source": [
    "dc_service_info_resp = requests.request(\"GET\", dc_base_url+'/table/trino.public.genome_ilifu/info')\n",
    "pretty_print_json(dc_service_info_resp)"
   ]
  },
  {
   "cell_type": "markdown",
   "id": "f7e52f9c-c2ea-4e89-9fe0-ecd7d4ebab52",
   "metadata": {},
   "source": [
    "### Select address and id functions"
   ]
  },
  {
   "cell_type": "code",
   "execution_count": 15,
   "id": "c0e2adf4-1007-42c8-9c78-34874e69070b",
   "metadata": {
    "slideshow": {
     "slide_type": ""
    },
    "tags": []
   },
   "outputs": [],
   "source": [
    "import re\n",
    "\n",
    "def get_address(s):\n",
    "    address = s.replace(\"drs://\",\"\")\n",
    "    address = re.sub(':.*', '', address)\n",
    "    return address\n",
    "    \n",
    "def get_drs_id(s):\n",
    "    drs_id = re.sub('.*/', '', s)\n",
    "    return drs_id"
   ]
  },
  {
   "cell_type": "markdown",
   "id": "8287ae94",
   "metadata": {},
   "source": [
    "### Access via Data Connect"
   ]
  },
  {
   "cell_type": "markdown",
   "id": "2bd861c6-4831-4607-8016-46f689ce59d0",
   "metadata": {},
   "source": [
    "1. Do query\n",
    "Select CRAM DRS ids for all African samples. Limit search to 10 samples for now."
   ]
  },
  {
   "cell_type": "code",
   "execution_count": 16,
   "id": "1ace0399-e384-434d-8eb5-307a3ad0601e",
   "metadata": {},
   "outputs": [
    {
     "name": "stdout",
     "output_type": "stream",
     "text": [
      "{\n",
      "   \"data\": [],\n",
      "   \"pagination\": {\n",
      "      \"next_page_url\": \"http://ga4gh-starter-kit.ilifu.ac.za:8089/search/v1/statement/queued/20231211_074655_00001_46krn/y76daec0be6b601f0a939b26eaeae88d9cd6e4f14/1?queryJobId=20231211_074655_00001_46krn\"\n",
      "   }\n",
      "}\n"
     ]
    }
   ],
   "source": [
    "import requests, json\n",
    "q2 = {\n",
    "  \"query\": \"select cram_drs_id from trino.public.genome_ilifu where super_population_id='AFR' limit 10\",\n",
    "  \"parameters\": []\n",
    "}\n",
    "r = requests.post(\"http://ga4gh-starter-kit.ilifu.ac.za:8089/search\", json = q2)\n",
    "print(json.dumps(r.json(), indent=3))\n",
    "data = r.json()"
   ]
  },
  {
   "cell_type": "markdown",
   "id": "cbc322ff-7807-40eb-819e-30ebf2154add",
   "metadata": {},
   "source": [
    "2. Parse through pages to get results"
   ]
  },
  {
   "cell_type": "code",
   "execution_count": 17,
   "id": "0d4c869a-5f9f-49ba-ba1e-3a11aff23a55",
   "metadata": {},
   "outputs": [],
   "source": [
    "next_page = data['pagination']['next_page_url']\n",
    "# print (next_page)\n",
    "\n",
    "# Poll till we get results\n",
    "while not 'executing' in next_page:\n",
    "    dc_service_info_resp = requests.request(\"GET\", next_page)\n",
    "    data = dc_service_info_resp.json()\n",
    "    next_page = data['pagination']['next_page_url']\n",
    "    # print (data)\n",
    "\n",
    "dc_service_info_resp = requests.request(\"GET\", next_page)\n",
    "# pretty_print_json(dc_service_info_resp)\n",
    "\n",
    "data = dc_service_info_resp.json()\n",
    "next_page = data['pagination']['next_page_url']\n",
    "dc_service_info_resp = requests.request(\"GET\", next_page)\n",
    "data = dc_service_info_resp.json()\n",
    "# pretty_print_json(dc_service_info_resp)\n",
    "\n",
    "drs_str = \"\"\n",
    "drs_ids = []\n",
    "for i in range(len(data['data'])):\n",
    "    # print (data['data'][i]['cram_drs_id'])\n",
    "    drs_ids.append(data['data'][i]['cram_drs_id'])\n",
    "    drs_str = drs_str + data['data'][i]['cram_drs_id'] + \" \"\n",
    "\n",
    "drs_str = drs_str[:-1]\n"
   ]
  },
  {
   "cell_type": "markdown",
   "id": "65b21bc7-a283-4a00-8512-b80f10be88bd",
   "metadata": {},
   "source": [
    "3. Map DRS server to DRS objects"
   ]
  },
  {
   "cell_type": "code",
   "execution_count": 18,
   "id": "cc77cdcc-567b-4902-af59-89704e4c39ed",
   "metadata": {},
   "outputs": [
    {
     "name": "stdout",
     "output_type": "stream",
     "text": [
      "{'osdp.ace.ac.ug': {'drs_ids': ['drs://osdp.ace.ac.ug:5000/6fa43c7de04b60c1a73a42aa2efc977d', 'drs://osdp.ace.ac.ug:5000/be145a60bc059c154475a2561af0df6b', 'drs://osdp.ace.ac.ug:5000/9a45659fe478e5bb39d1dd1b08bd1807', 'drs://osdp.ace.ac.ug:5000/82adbcf7cc72c31a86e65d73bf6ef81b'], 'total_file_size': 0, 'ingress': 0, 'run_id': 0, 'drs_ids_str': '', 'outputs': {}}, 'elwazi-node.icermali.org': {'drs_ids': ['drs://elwazi-node.icermali.org:5000/a68c60133f942881983d0e15827bf88f', 'drs://elwazi-node.icermali.org:5000/45ca586b0921ffedf6a63679fbaacb68', 'drs://elwazi-node.icermali.org:5000/d36019bb63182abad672205a140f7e83', 'drs://elwazi-node.icermali.org:5000/b809bb9b81a9583ec67e787b0449e9bd', 'drs://elwazi-node.icermali.org:5000/168d353c6f474ca72e35e9209f921a59'], 'total_file_size': 0, 'ingress': 0, 'run_id': 0, 'drs_ids_str': '', 'outputs': {}}, 'ga4gh-starter-kit.ilifu.ac.za': {'drs_ids': ['drs://ga4gh-starter-kit.ilifu.ac.za:5000/5a436bec951fab59dd975bcd10f316f1'], 'total_file_size': 0, 'ingress': 0, 'run_id': 0, 'drs_ids_str': '', 'outputs': {}}}\n"
     ]
    }
   ],
   "source": [
    "drs_servers = {}\n",
    "for drs_id in drs_ids:\n",
    "    address = get_address(drs_id)\n",
    "    if address not in drs_servers:\n",
    "        drs_servers[address] = {}\n",
    "        drs_servers[address]['drs_ids'] = []\n",
    "        drs_servers[address]['drs_ids'].append(drs_id)\n",
    "        drs_servers[address]['total_file_size'] = 0\n",
    "        drs_servers[address]['ingress'] = 0\n",
    "        drs_servers[address]['run_id'] = 0\n",
    "        drs_servers[address]['drs_ids_str'] = \"\"\n",
    "        drs_servers[address]['outputs'] = {}\n",
    "    else:\n",
    "        drs_servers[address]['drs_ids'].append(drs_id)\n",
    "print (drs_servers)"
   ]
  },
  {
   "cell_type": "code",
   "execution_count": 19,
   "id": "e707e344",
   "metadata": {},
   "outputs": [
    {
     "name": "stdout",
     "output_type": "stream",
     "text": [
      "{'elwazi-node.icermali.org': {'drs_ids': ['drs://elwazi-node.icermali.org:5000/a68c60133f942881983d0e15827bf88f', 'drs://elwazi-node.icermali.org:5000/45ca586b0921ffedf6a63679fbaacb68', 'drs://elwazi-node.icermali.org:5000/d36019bb63182abad672205a140f7e83', 'drs://elwazi-node.icermali.org:5000/b809bb9b81a9583ec67e787b0449e9bd', 'drs://elwazi-node.icermali.org:5000/168d353c6f474ca72e35e9209f921a59'], 'total_file_size': 0, 'ingress': 0, 'run_id': 0, 'drs_ids_str': '', 'outputs': {}}, 'ga4gh-starter-kit.ilifu.ac.za': {'drs_ids': ['drs://ga4gh-starter-kit.ilifu.ac.za:5000/5a436bec951fab59dd975bcd10f316f1'], 'total_file_size': 0, 'ingress': 0, 'run_id': 0, 'drs_ids_str': '', 'outputs': {}}}\n"
     ]
    }
   ],
   "source": [
    "#Exclude OSDP, ACE-UGANDA server currently unavailable\n",
    "drs_servers.pop('osdp.ace.ac.ug')\n",
    "print (drs_servers)\n",
    "# for server in drs_servers:\n",
    "#     print(server)"
   ]
  },
  {
   "cell_type": "markdown",
   "id": "15c69244-4768-459f-909f-f2b6b9a40ad3",
   "metadata": {
    "slideshow": {
     "slide_type": ""
    },
    "tags": []
   },
   "source": [
    "### Use case\n",
    "### Now we initiate a run in a gather/scatter/federated manner\n",
    "#### - Runs are initiated on individual nodes (calculate flagstat)\n",
    "#### - Output is gathered and MultiQC are run on the flagstat results on one WES endpoint"
   ]
  },
  {
   "cell_type": "markdown",
   "id": "ee204c64",
   "metadata": {},
   "source": [
    "## Passport information\n",
    "\n",
    "#### GET User id\n",
    "\n"
   ]
  },
  {
   "cell_type": "code",
   "execution_count": 20,
   "id": "5eb6ddcd",
   "metadata": {},
   "outputs": [],
   "source": [
    "user_id = input(\"Enter your user id \\n\") #userId=a6828597-5816-46d3-83ef-665f2ceb9588"
   ]
  },
  {
   "cell_type": "code",
   "execution_count": 21,
   "id": "a3cab653",
   "metadata": {},
   "outputs": [
    {
     "name": "stdout",
     "output_type": "stream",
     "text": [
      "http://localhost:4501/admin/ga4gh/passport/v1/\n"
     ]
    }
   ],
   "source": [
    "drs_admin_port = \"5001\" #drs admin port\n",
    "broker_admin_port = \"4501\" #broker admin port\n",
    "\n",
    "ga4gh_admin_url = \"http://localhost:{}/admin/ga4gh/{}/v1/\"\n",
    "\n",
    "broker_base_url = ga4gh_base_url.format(broker_port,\"passport\")\n",
    "broker_admin_url = ga4gh_admin_url.format(broker_admin_port,\"passport\")\n",
    "\n",
    "print(broker_admin_url)"
   ]
  },
  {
   "cell_type": "markdown",
   "id": "0b0224d0",
   "metadata": {},
   "source": [
    "### Get User's available visas"
   ]
  },
  {
   "cell_type": "code",
   "execution_count": 26,
   "id": "64cad1e1",
   "metadata": {},
   "outputs": [
    {
     "name": "stdout",
     "output_type": "stream",
     "text": [
      "{\n",
      "    \"id\": \"a6828597-5816-46d3-83ef-665f2ceb9588\",\n",
      "    \"passportVisaAssertions\": [\n",
      "        {\n",
      "            \"status\": \"active\",\n",
      "            \"assertedAt\": 1701884776,\n",
      "            \"passportVisa\": {\n",
      "                \"id\": \"33d54e45-bf1b-40d8-93be-57142aa5c949\",\n",
      "                \"visaName\": \"eLwaziPilotIlifu\",\n",
      "                \"visaIssuer\": \"http://ga4gh-starter-kit.ilifu.ac.za:4500/\",\n",
      "                \"visaDescription\": \"elwazi pilot project: passports demo, ilifu\"\n",
      "            }\n",
      "        },\n",
      "        {\n",
      "            \"status\": \"active\",\n",
      "            \"assertedAt\": 1701884776,\n",
      "            \"passportVisa\": {\n",
      "                \"id\": \"510c790d-af4f-4910-8d88-05b0784d1fbf\",\n",
      "                \"visaName\": \"eLwaziPilotACEUganda\",\n",
      "                \"visaIssuer\": \"http://osdp.ace.ac.ug:4500/\",\n",
      "                \"visaDescription\": \"elwazi pilot project: passports demo, osdp\"\n",
      "            }\n",
      "        },\n",
      "        {\n",
      "            \"status\": \"active\",\n",
      "            \"assertedAt\": 1701884776,\n",
      "            \"passportVisa\": {\n",
      "                \"id\": \"4b342cec-e141-4d56-9930-b49cbb80c303\",\n",
      "                \"visaName\": \"eLwaziPilotACEMali\",\n",
      "                \"visaIssuer\": \"http://elwazi-node.icermali.org:4500/\",\n",
      "                \"visaDescription\": \"elwazi pilot project: passports demo, icermali\"\n",
      "            }\n",
      "        }\n",
      "    ]\n",
      "}\n"
     ]
    }
   ],
   "source": [
    "request_url = broker_admin_url+ \"users/\" + user_id\n",
    "# request_url = broker_admin_url+ \"visas/\" + \"33d54e45-bf1b-40d8-93be-57142aa5c949\"\n",
    "http_method = \"GET\"\n",
    "drs_object_response = requests.request(http_method, request_url)\n",
    "# print the response\n",
    "pretty_print_json(drs_object_response)"
   ]
  },
  {
   "cell_type": "markdown",
   "id": "7e56625b",
   "metadata": {},
   "source": [
    "### GET Passport Token for select visas"
   ]
  },
  {
   "cell_type": "code",
   "execution_count": 27,
   "id": "f36ca2a9",
   "metadata": {},
   "outputs": [
    {
     "name": "stdout",
     "output_type": "stream",
     "text": [
      "\u001b[38;2;8;138;75mPOST a request to http://localhost:4501/admin/ga4gh/passport/v1/mint/ to get passport token from selected visas\u001b[0m\n",
      "eyJ0eXAiOiJKV1QiLCJhbGciOiJIUzI1NiJ9.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.hRtcItfoJvpaboo-uIOq64_elQqNh5gEbD7FCp-YKUM\n"
     ]
    }
   ],
   "source": [
    "http_method = \"POST\"\n",
    "\n",
    "mint_path_post = \"mint/\"\n",
    "request_url = broker_admin_url + mint_path_post\n",
    "\n",
    "request_body = json.dumps({\n",
    "    \"researcherId\": user_id,\n",
    "    \"requestedVisas\": [\"4b342cec-e141-4d56-9930-b49cbb80c303\", \"510c790d-af4f-4910-8d88-05b0784d1fbf\", \"33d54e45-bf1b-40d8-93be-57142aa5c949\"]\n",
    "})\n",
    "request_headers = {\"Content-Type\": \"application/json\"}\n",
    "\n",
    "print_head(\"{} a request to {} to get passport token from selected visas\".format(http_method, request_url))\n",
    "\n",
    "# POST visas to the /mint endpoint\n",
    "passport_token_response = requests.request(\n",
    "    http_method, \n",
    "    request_url,\n",
    "    headers = request_headers,\n",
    "    data = request_body\n",
    ")\n",
    "\n",
    "passport_token = passport_token_response.text\n",
    "# print the response\n",
    "# pretty_print_json(passport_token_response)\n",
    "print(passport_token)"
   ]
  },
  {
   "cell_type": "code",
   "execution_count": 28,
   "id": "3624ebf7",
   "metadata": {},
   "outputs": [
    {
     "name": "stdout",
     "output_type": "stream",
     "text": [
      "{'ga4gh-starter-kit.ilifu.ac.za': 'eyJ0eXAiOiJKV1QiLCJhbGciOiJIUzI1NiJ9.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.hRtcItfoJvpaboo-uIOq64_elQqNh5gEbD7FCp-YKUM', 'elwazi-node.icermali.org': 'eyJ0eXAiOiJKV1QiLCJhbGciOiJIUzI1NiJ9.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.R-86TNFCkEtB-TaByb29YKopRfg8kejeVHrzKnFs6ZM'}\n"
     ]
    }
   ],
   "source": [
    "passports ={}\n",
    "passports[\"ga4gh-starter-kit.ilifu.ac.za\"]=passport_token\n",
    "passports[\"elwazi-node.icermali.org\"]=\"eyJ0eXAiOiJKV1QiLCJhbGciOiJIUzI1NiJ9.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.R-86TNFCkEtB-TaByb29YKopRfg8kejeVHrzKnFs6ZM\"\n",
    "print(passports)"
   ]
  },
  {
   "cell_type": "markdown",
   "id": "066a4fcf",
   "metadata": {},
   "source": [
    "### Accessing DRS objects using Passports"
   ]
  },
  {
   "cell_type": "code",
   "execution_count": 29,
   "id": "9d2aa7fa",
   "metadata": {},
   "outputs": [],
   "source": [
    "def getDRSObject(node, drs_object_id, passport_token):\n",
    "    http_method = \"POST\"\n",
    "\n",
    "    drs_objects_path = \"/objects/\"\n",
    "    drs_base_url = \"http://\" + node + \":5000/ga4gh/drs/v1/\"\n",
    "    request_url = drs_base_url + drs_objects_path + drs_object_id\n",
    "    request_body = json.dumps({\n",
    "        \"passports\": [passport_token]\n",
    "    })\n",
    "    request_headers = {\"Content-Type\": \"application/json\"}\n",
    "\n",
    "    print_head(\"{} request to {} with a passport that has selected visas\".format(http_method, request_url))\n",
    "\n",
    "    # GET request to /objects/{object_id} endpoint\n",
    "    drs_object_response = requests.request(http_method, request_url, headers = request_headers, data = request_body)\n",
    "    return drs_object_response"
   ]
  },
  {
   "cell_type": "code",
   "execution_count": 30,
   "id": "bb0e9297",
   "metadata": {},
   "outputs": [
    {
     "name": "stdout",
     "output_type": "stream",
     "text": [
      "ga4gh-starter-kit.ilifu.ac.za\n",
      "drs://ga4gh-starter-kit.ilifu.ac.za:5000/5a436bec951fab59dd975bcd10f316f1\n",
      "\u001b[38;2;8;138;75mPOST request to http://ga4gh-starter-kit.ilifu.ac.za:5000/ga4gh/drs/v1//objects/5a436bec951fab59dd975bcd10f316f1 with a passport that has selected visas\u001b[0m\n",
      "/share/elwazi/crams/HG01883/HG01883.final.chrX_15494566-15607236.cram\n",
      "elwazi-node.icermali.org\n",
      "drs://elwazi-node.icermali.org:5000/a68c60133f942881983d0e15827bf88f\n",
      "\u001b[38;2;8;138;75mPOST request to http://elwazi-node.icermali.org:5000/ga4gh/drs/v1//objects/a68c60133f942881983d0e15827bf88f with a passport that has selected visas\u001b[0m\n",
      "/share/elwazi/crams/HG01880/HG01880.final.chrX_15494566-15607236.cram\n",
      "drs://elwazi-node.icermali.org:5000/45ca586b0921ffedf6a63679fbaacb68\n",
      "\u001b[38;2;8;138;75mPOST request to http://elwazi-node.icermali.org:5000/ga4gh/drs/v1//objects/45ca586b0921ffedf6a63679fbaacb68 with a passport that has selected visas\u001b[0m\n",
      "/share/elwazi/crams/HG01882/HG01882.final.chrX_15494566-15607236.cram\n",
      "drs://elwazi-node.icermali.org:5000/d36019bb63182abad672205a140f7e83\n",
      "\u001b[38;2;8;138;75mPOST request to http://elwazi-node.icermali.org:5000/ga4gh/drs/v1//objects/d36019bb63182abad672205a140f7e83 with a passport that has selected visas\u001b[0m\n",
      "/share/elwazi/crams/HG01886/HG01886.final.chrX_15494566-15607236.cram\n",
      "drs://elwazi-node.icermali.org:5000/b809bb9b81a9583ec67e787b0449e9bd\n",
      "\u001b[38;2;8;138;75mPOST request to http://elwazi-node.icermali.org:5000/ga4gh/drs/v1//objects/b809bb9b81a9583ec67e787b0449e9bd with a passport that has selected visas\u001b[0m\n",
      "/share/elwazi/crams/HG01889/HG01889.final.chrX_15494566-15607236.cram\n",
      "drs://elwazi-node.icermali.org:5000/168d353c6f474ca72e35e9209f921a59\n",
      "\u001b[38;2;8;138;75mPOST request to http://elwazi-node.icermali.org:5000/ga4gh/drs/v1//objects/168d353c6f474ca72e35e9209f921a59 with a passport that has selected visas\u001b[0m\n",
      "/share/elwazi/crams/HG01890/HG01890.final.chrX_15494566-15607236.cram\n"
     ]
    }
   ],
   "source": [
    "nodes = ['ga4gh-starter-kit.ilifu.ac.za', 'elwazi-node.icermali.org']\n",
    "drs_objects = []\n",
    "for node in nodes:\n",
    "    print(node)\n",
    "    drs_node = drs_servers[node]\n",
    "    for drs_object in drs_node['drs_ids']:\n",
    "        print(drs_object)\n",
    "        obj_index = drs_servers[node]['drs_ids'].index(drs_object)\n",
    "        object_id = drs_object.split(\"/\")[-1]\n",
    "        # drs_objects.append(object_id)\n",
    "        drs_object = getDRSObject(node, object_id, passports[node]).json()\n",
    "        # drs_servers[node]['drs_ids'][drs_object] = drs_object['access_methods'][0]['access_url']['url'].replace(\"file://\", \"\")\n",
    "        drs_servers[node]['drs_ids'][obj_index] = drs_object['access_methods'][0]['access_url']['url'].replace(\"file://\", \"\")\n",
    "        print(drs_object['access_methods'][0]['access_url']['url'].replace(\"file://\", \"\"))\n",
    "        # pretty_print_json(drs_object)\n",
    "        # print(drs_object)"
   ]
  },
  {
   "cell_type": "code",
   "execution_count": 31,
   "id": "6d6a940c",
   "metadata": {},
   "outputs": [
    {
     "data": {
      "text/plain": [
       "{'elwazi-node.icermali.org': {'drs_ids': ['/share/elwazi/crams/HG01880/HG01880.final.chrX_15494566-15607236.cram',\n",
       "   '/share/elwazi/crams/HG01882/HG01882.final.chrX_15494566-15607236.cram',\n",
       "   '/share/elwazi/crams/HG01886/HG01886.final.chrX_15494566-15607236.cram',\n",
       "   '/share/elwazi/crams/HG01889/HG01889.final.chrX_15494566-15607236.cram',\n",
       "   '/share/elwazi/crams/HG01890/HG01890.final.chrX_15494566-15607236.cram'],\n",
       "  'total_file_size': 0,\n",
       "  'ingress': 0,\n",
       "  'run_id': 0,\n",
       "  'drs_ids_str': '',\n",
       "  'outputs': {}},\n",
       " 'ga4gh-starter-kit.ilifu.ac.za': {'drs_ids': ['/share/elwazi/crams/HG01883/HG01883.final.chrX_15494566-15607236.cram'],\n",
       "  'total_file_size': 0,\n",
       "  'ingress': 0,\n",
       "  'run_id': 0,\n",
       "  'drs_ids_str': '',\n",
       "  'outputs': {}}}"
      ]
     },
     "execution_count": 31,
     "metadata": {},
     "output_type": "execute_result"
    }
   ],
   "source": [
    "drs_servers"
   ]
  },
  {
   "cell_type": "markdown",
   "id": "ea5ff1a4-5687-4e73-a6cb-81ac30a4c807",
   "metadata": {
    "slideshow": {
     "slide_type": ""
    },
    "tags": []
   },
   "source": [
    "![Use case 1](use_case_2.png)"
   ]
  },
  {
   "cell_type": "markdown",
   "id": "535d9de6-fcdf-4318-9e7b-2c9ee5172818",
   "metadata": {},
   "source": [
    "1) Launch flagstat runs. Use the dictionary structure generated previously. Launch workflow at WES endpoint on DRS objects only from that endpoint."
   ]
  },
  {
   "cell_type": "code",
   "execution_count": 32,
   "id": "1e940de3-2d85-4fe8-b2d6-927029669719",
   "metadata": {},
   "outputs": [
    {
     "name": "stdout",
     "output_type": "stream",
     "text": [
      "Launching jobs on server: elwazi-node.icermali.org\n",
      "Launching jobs on server: ga4gh-starter-kit.ilifu.ac.za\n",
      "\u001b[38;2;8;138;75mPOST request to http://elwazi-node.icermali.org:6000/ga4gh/wes/v1/runs\u001b[0m\n",
      "{\n",
      "    \"run_id\": \"0404782a-2020-41f2-bcfd-1af9506e756f\"\n",
      "}\n",
      "\u001b[38;2;8;138;75mrun_id = 0404782a-2020-41f2-bcfd-1af9506e756f\u001b[0m\n",
      "\u001b[38;2;8;138;75mGET request to http://elwazi-node.icermali.org:6000/ga4gh/wes/v1/runs/0404782a-2020-41f2-bcfd-1af9506e756f\u001b[0m\n",
      "{'run_id': '0404782a-2020-41f2-bcfd-1af9506e756f', 'request': {'workflow_params': {'input': '/share/elwazi/crams/HG01880/HG01880.final.chrX_15494566-15607236.cram /share/elwazi/crams/HG01882/HG01882.final.chrX_15494566-15607236.cram /share/elwazi/crams/HG01886/HG01886.final.chrX_15494566-15607236.cram /share/elwazi/crams/HG01889/HG01889.final.chrX_15494566-15607236.cram /share/elwazi/crams/HG01890/HG01890.final.chrX_15494566-15607236.cram'}, 'workflow_type': 'NEXTFLOW', 'workflow_type_version': '21.04.0', 'workflow_url': 'https://github.com/grbot/flagstat'}, 'state': 'COMPLETE', 'run_log': {'name': 'grbot/flagstat', 'cmd': ['#!/bin/bash -ue', 'samtools flagstat     -@ 1     HG01882.final.chrX_15494566-15607236.cram > HG01882.final.chrX_15494566-15607236.cram.flagstat', '#!/bin/bash -ue', 'samtools flagstat     -@ 1     HG01889.final.chrX_15494566-15607236.cram > HG01889.final.chrX_15494566-15607236.cram.flagstat', '#!/bin/bash -ue', 'samtools flagstat     -@ 1     HG01880.final.chrX_15494566-15607236.cram > HG01880.final.chrX_15494566-15607236.cram.flagstat', '#!/bin/bash -ue', 'samtools flagstat     -@ 1     HG01886.final.chrX_15494566-15607236.cram > HG01886.final.chrX_15494566-15607236.cram.flagstat', '#!/bin/bash -ue', 'samtools flagstat     -@ 1     HG01890.final.chrX_15494566-15607236.cram > HG01890.final.chrX_15494566-15607236.cram.flagstat'], 'start_time': '2023-12-11T07:53:12Z', 'end_time': '2023-12-11T07:53:14Z', 'stdout': 'http://elwazi-node.icermali.org:6000/ga4gh/wes/v1/logs/nextflow/stdout/0404782a-2020-41f2-bcfd-1af9506e756f?workdirs=bd%2Fd84921419a43c02eaa5f09a80e6dd4%2C8a%2Fa7b2de96906a6755e9a985d9b15cd7%2C71%2Fa2e5af9a66db4ef2999d0498fe8df6%2Cae%2F57317eab2520f5cff850370118242f%2Cef%2F6ec0ee37f5f69d8c29813a3badca1f', 'stderr': 'http://elwazi-node.icermali.org:6000/ga4gh/wes/v1/logs/nextflow/stderr/0404782a-2020-41f2-bcfd-1af9506e756f?workdirs=bd%2Fd84921419a43c02eaa5f09a80e6dd4%2C8a%2Fa7b2de96906a6755e9a985d9b15cd7%2C71%2Fa2e5af9a66db4ef2999d0498fe8df6%2Cae%2F57317eab2520f5cff850370118242f%2Cef%2F6ec0ee37f5f69d8c29813a3badca1f', 'exit_code': 0}, 'task_logs': [{'name': 'run_flagstat', 'cmd': ['#!/bin/bash -ue', 'samtools flagstat     -@ 1     HG01882.final.chrX_15494566-15607236.cram > HG01882.final.chrX_15494566-15607236.cram.flagstat'], 'start_time': '2023-12-11T07:53:12Z', 'end_time': '2023-12-11T07:53:13Z', 'stdout': 'http://elwazi-node.icermali.org:6000/ga4gh/wes/v1/logs/nextflow/stdout/0404782a-2020-41f2-bcfd-1af9506e756f/bd/d84921419a43c02eaa5f09a80e6dd4', 'stderr': 'http://elwazi-node.icermali.org:6000/ga4gh/wes/v1/logs/nextflow/stderr/0404782a-2020-41f2-bcfd-1af9506e756f/bd/d84921419a43c02eaa5f09a80e6dd4', 'exit_code': 0}, {'name': 'run_flagstat', 'cmd': ['#!/bin/bash -ue', 'samtools flagstat     -@ 1     HG01889.final.chrX_15494566-15607236.cram > HG01889.final.chrX_15494566-15607236.cram.flagstat'], 'start_time': '2023-12-11T07:53:12Z', 'end_time': '2023-12-11T07:53:14Z', 'stdout': 'http://elwazi-node.icermali.org:6000/ga4gh/wes/v1/logs/nextflow/stdout/0404782a-2020-41f2-bcfd-1af9506e756f/8a/a7b2de96906a6755e9a985d9b15cd7', 'stderr': 'http://elwazi-node.icermali.org:6000/ga4gh/wes/v1/logs/nextflow/stderr/0404782a-2020-41f2-bcfd-1af9506e756f/8a/a7b2de96906a6755e9a985d9b15cd7', 'exit_code': 0}, {'name': 'run_flagstat', 'cmd': ['#!/bin/bash -ue', 'samtools flagstat     -@ 1     HG01880.final.chrX_15494566-15607236.cram > HG01880.final.chrX_15494566-15607236.cram.flagstat'], 'start_time': '2023-12-11T07:53:12Z', 'end_time': '2023-12-11T07:53:14Z', 'stdout': 'http://elwazi-node.icermali.org:6000/ga4gh/wes/v1/logs/nextflow/stdout/0404782a-2020-41f2-bcfd-1af9506e756f/71/a2e5af9a66db4ef2999d0498fe8df6', 'stderr': 'http://elwazi-node.icermali.org:6000/ga4gh/wes/v1/logs/nextflow/stderr/0404782a-2020-41f2-bcfd-1af9506e756f/71/a2e5af9a66db4ef2999d0498fe8df6', 'exit_code': 0}, {'name': 'run_flagstat', 'cmd': ['#!/bin/bash -ue', 'samtools flagstat     -@ 1     HG01886.final.chrX_15494566-15607236.cram > HG01886.final.chrX_15494566-15607236.cram.flagstat'], 'start_time': '2023-12-11T07:53:12Z', 'end_time': '2023-12-11T07:53:14Z', 'stdout': 'http://elwazi-node.icermali.org:6000/ga4gh/wes/v1/logs/nextflow/stdout/0404782a-2020-41f2-bcfd-1af9506e756f/ae/57317eab2520f5cff850370118242f', 'stderr': 'http://elwazi-node.icermali.org:6000/ga4gh/wes/v1/logs/nextflow/stderr/0404782a-2020-41f2-bcfd-1af9506e756f/ae/57317eab2520f5cff850370118242f', 'exit_code': 0}, {'name': 'run_flagstat', 'cmd': ['#!/bin/bash -ue', 'samtools flagstat     -@ 1     HG01890.final.chrX_15494566-15607236.cram > HG01890.final.chrX_15494566-15607236.cram.flagstat'], 'start_time': '2023-12-11T07:53:14Z', 'end_time': '2023-12-11T07:53:14Z', 'stdout': 'http://elwazi-node.icermali.org:6000/ga4gh/wes/v1/logs/nextflow/stdout/0404782a-2020-41f2-bcfd-1af9506e756f/ef/6ec0ee37f5f69d8c29813a3badca1f', 'stderr': 'http://elwazi-node.icermali.org:6000/ga4gh/wes/v1/logs/nextflow/stderr/0404782a-2020-41f2-bcfd-1af9506e756f/ef/6ec0ee37f5f69d8c29813a3badca1f', 'exit_code': 0}], 'outputs': {'HG01882.final.chrX_15494566-15607236.cram': 'file:///opt/ga4gh-starter-kit-wes/wes_runs/04/04/78/0404782a-2020-41f2-bcfd-1af9506e756f/work/bd/d84921419a43c02eaa5f09a80e6dd4/HG01882.final.chrX_15494566-15607236.cram', 'HG01880.final.chrX_15494566-15607236.cram': 'file:///opt/ga4gh-starter-kit-wes/wes_runs/04/04/78/0404782a-2020-41f2-bcfd-1af9506e756f/work/71/a2e5af9a66db4ef2999d0498fe8df6/HG01880.final.chrX_15494566-15607236.cram', 'HG01880.final.chrX_15494566-15607236.cram.flagstat': 'file:///opt/ga4gh-starter-kit-wes/wes_runs/04/04/78/0404782a-2020-41f2-bcfd-1af9506e756f/work/71/a2e5af9a66db4ef2999d0498fe8df6/HG01880.final.chrX_15494566-15607236.cram.flagstat', 'HG01890.final.chrX_15494566-15607236.cram.flagstat': 'file:///opt/ga4gh-starter-kit-wes/wes_runs/04/04/78/0404782a-2020-41f2-bcfd-1af9506e756f/work/ef/6ec0ee37f5f69d8c29813a3badca1f/HG01890.final.chrX_15494566-15607236.cram.flagstat', 'HG01886.final.chrX_15494566-15607236.cram': 'file:///opt/ga4gh-starter-kit-wes/wes_runs/04/04/78/0404782a-2020-41f2-bcfd-1af9506e756f/work/ae/57317eab2520f5cff850370118242f/HG01886.final.chrX_15494566-15607236.cram', 'HG01882.final.chrX_15494566-15607236.cram.flagstat': 'file:///opt/ga4gh-starter-kit-wes/wes_runs/04/04/78/0404782a-2020-41f2-bcfd-1af9506e756f/work/bd/d84921419a43c02eaa5f09a80e6dd4/HG01882.final.chrX_15494566-15607236.cram.flagstat', 'HG01889.final.chrX_15494566-15607236.cram': 'file:///opt/ga4gh-starter-kit-wes/wes_runs/04/04/78/0404782a-2020-41f2-bcfd-1af9506e756f/work/8a/a7b2de96906a6755e9a985d9b15cd7/HG01889.final.chrX_15494566-15607236.cram', 'HG01889.final.chrX_15494566-15607236.cram.flagstat': 'file:///opt/ga4gh-starter-kit-wes/wes_runs/04/04/78/0404782a-2020-41f2-bcfd-1af9506e756f/work/8a/a7b2de96906a6755e9a985d9b15cd7/HG01889.final.chrX_15494566-15607236.cram.flagstat', 'HG01886.final.chrX_15494566-15607236.cram.flagstat': 'file:///opt/ga4gh-starter-kit-wes/wes_runs/04/04/78/0404782a-2020-41f2-bcfd-1af9506e756f/work/ae/57317eab2520f5cff850370118242f/HG01886.final.chrX_15494566-15607236.cram.flagstat', 'HG01890.final.chrX_15494566-15607236.cram': 'file:///opt/ga4gh-starter-kit-wes/wes_runs/04/04/78/0404782a-2020-41f2-bcfd-1af9506e756f/work/ef/6ec0ee37f5f69d8c29813a3badca1f/HG01890.final.chrX_15494566-15607236.cram'}}\n",
      "Job running status: COMPLETE\n",
      "{\n",
      "    \"run_id\": \"0404782a-2020-41f2-bcfd-1af9506e756f\",\n",
      "    \"request\": {\n",
      "        \"workflow_params\": {\n",
      "            \"input\": \"/share/elwazi/crams/HG01880/HG01880.final.chrX_15494566-15607236.cram /share/elwazi/crams/HG01882/HG01882.final.chrX_15494566-15607236.cram /share/elwazi/crams/HG01886/HG01886.final.chrX_15494566-15607236.cram /share/elwazi/crams/HG01889/HG01889.final.chrX_15494566-15607236.cram /share/elwazi/crams/HG01890/HG01890.final.chrX_15494566-15607236.cram\"\n",
      "        },\n",
      "        \"workflow_type\": \"NEXTFLOW\",\n",
      "        \"workflow_type_version\": \"21.04.0\",\n",
      "        \"workflow_url\": \"https://github.com/grbot/flagstat\"\n",
      "    },\n",
      "    \"state\": \"COMPLETE\",\n",
      "    \"run_log\": {\n",
      "        \"name\": \"grbot/flagstat\",\n",
      "        \"cmd\": [\n",
      "            \"#!/bin/bash -ue\",\n",
      "            \"samtools flagstat     -@ 1     HG01882.final.chrX_15494566-15607236.cram > HG01882.final.chrX_15494566-15607236.cram.flagstat\",\n",
      "            \"#!/bin/bash -ue\",\n",
      "            \"samtools flagstat     -@ 1     HG01889.final.chrX_15494566-15607236.cram > HG01889.final.chrX_15494566-15607236.cram.flagstat\",\n",
      "            \"#!/bin/bash -ue\",\n",
      "            \"samtools flagstat     -@ 1     HG01880.final.chrX_15494566-15607236.cram > HG01880.final.chrX_15494566-15607236.cram.flagstat\",\n",
      "            \"#!/bin/bash -ue\",\n",
      "            \"samtools flagstat     -@ 1     HG01886.final.chrX_15494566-15607236.cram > HG01886.final.chrX_15494566-15607236.cram.flagstat\",\n",
      "            \"#!/bin/bash -ue\",\n",
      "            \"samtools flagstat     -@ 1     HG01890.final.chrX_15494566-15607236.cram > HG01890.final.chrX_15494566-15607236.cram.flagstat\"\n",
      "        ],\n",
      "        \"start_time\": \"2023-12-11T07:53:12Z\",\n",
      "        \"end_time\": \"2023-12-11T07:53:14Z\",\n",
      "        \"stdout\": \"http://elwazi-node.icermali.org:6000/ga4gh/wes/v1/logs/nextflow/stdout/0404782a-2020-41f2-bcfd-1af9506e756f?workdirs=bd%2Fd84921419a43c02eaa5f09a80e6dd4%2C8a%2Fa7b2de96906a6755e9a985d9b15cd7%2C71%2Fa2e5af9a66db4ef2999d0498fe8df6%2Cae%2F57317eab2520f5cff850370118242f%2Cef%2F6ec0ee37f5f69d8c29813a3badca1f\",\n",
      "        \"stderr\": \"http://elwazi-node.icermali.org:6000/ga4gh/wes/v1/logs/nextflow/stderr/0404782a-2020-41f2-bcfd-1af9506e756f?workdirs=bd%2Fd84921419a43c02eaa5f09a80e6dd4%2C8a%2Fa7b2de96906a6755e9a985d9b15cd7%2C71%2Fa2e5af9a66db4ef2999d0498fe8df6%2Cae%2F57317eab2520f5cff850370118242f%2Cef%2F6ec0ee37f5f69d8c29813a3badca1f\",\n",
      "        \"exit_code\": 0\n",
      "    },\n",
      "    \"task_logs\": [\n",
      "        {\n",
      "            \"name\": \"run_flagstat\",\n",
      "            \"cmd\": [\n",
      "                \"#!/bin/bash -ue\",\n",
      "                \"samtools flagstat     -@ 1     HG01882.final.chrX_15494566-15607236.cram > HG01882.final.chrX_15494566-15607236.cram.flagstat\"\n",
      "            ],\n",
      "            \"start_time\": \"2023-12-11T07:53:12Z\",\n",
      "            \"end_time\": \"2023-12-11T07:53:13Z\",\n",
      "            \"stdout\": \"http://elwazi-node.icermali.org:6000/ga4gh/wes/v1/logs/nextflow/stdout/0404782a-2020-41f2-bcfd-1af9506e756f/bd/d84921419a43c02eaa5f09a80e6dd4\",\n",
      "            \"stderr\": \"http://elwazi-node.icermali.org:6000/ga4gh/wes/v1/logs/nextflow/stderr/0404782a-2020-41f2-bcfd-1af9506e756f/bd/d84921419a43c02eaa5f09a80e6dd4\",\n",
      "            \"exit_code\": 0\n",
      "        },\n",
      "        {\n",
      "            \"name\": \"run_flagstat\",\n",
      "            \"cmd\": [\n",
      "                \"#!/bin/bash -ue\",\n",
      "                \"samtools flagstat     -@ 1     HG01889.final.chrX_15494566-15607236.cram > HG01889.final.chrX_15494566-15607236.cram.flagstat\"\n",
      "            ],\n",
      "            \"start_time\": \"2023-12-11T07:53:12Z\",\n",
      "            \"end_time\": \"2023-12-11T07:53:14Z\",\n",
      "            \"stdout\": \"http://elwazi-node.icermali.org:6000/ga4gh/wes/v1/logs/nextflow/stdout/0404782a-2020-41f2-bcfd-1af9506e756f/8a/a7b2de96906a6755e9a985d9b15cd7\",\n",
      "            \"stderr\": \"http://elwazi-node.icermali.org:6000/ga4gh/wes/v1/logs/nextflow/stderr/0404782a-2020-41f2-bcfd-1af9506e756f/8a/a7b2de96906a6755e9a985d9b15cd7\",\n",
      "            \"exit_code\": 0\n",
      "        },\n",
      "        {\n",
      "            \"name\": \"run_flagstat\",\n",
      "            \"cmd\": [\n",
      "                \"#!/bin/bash -ue\",\n",
      "                \"samtools flagstat     -@ 1     HG01880.final.chrX_15494566-15607236.cram > HG01880.final.chrX_15494566-15607236.cram.flagstat\"\n",
      "            ],\n",
      "            \"start_time\": \"2023-12-11T07:53:12Z\",\n",
      "            \"end_time\": \"2023-12-11T07:53:14Z\",\n",
      "            \"stdout\": \"http://elwazi-node.icermali.org:6000/ga4gh/wes/v1/logs/nextflow/stdout/0404782a-2020-41f2-bcfd-1af9506e756f/71/a2e5af9a66db4ef2999d0498fe8df6\",\n",
      "            \"stderr\": \"http://elwazi-node.icermali.org:6000/ga4gh/wes/v1/logs/nextflow/stderr/0404782a-2020-41f2-bcfd-1af9506e756f/71/a2e5af9a66db4ef2999d0498fe8df6\",\n",
      "            \"exit_code\": 0\n",
      "        },\n",
      "        {\n",
      "            \"name\": \"run_flagstat\",\n",
      "            \"cmd\": [\n",
      "                \"#!/bin/bash -ue\",\n",
      "                \"samtools flagstat     -@ 1     HG01886.final.chrX_15494566-15607236.cram > HG01886.final.chrX_15494566-15607236.cram.flagstat\"\n",
      "            ],\n",
      "            \"start_time\": \"2023-12-11T07:53:12Z\",\n",
      "            \"end_time\": \"2023-12-11T07:53:14Z\",\n",
      "            \"stdout\": \"http://elwazi-node.icermali.org:6000/ga4gh/wes/v1/logs/nextflow/stdout/0404782a-2020-41f2-bcfd-1af9506e756f/ae/57317eab2520f5cff850370118242f\",\n",
      "            \"stderr\": \"http://elwazi-node.icermali.org:6000/ga4gh/wes/v1/logs/nextflow/stderr/0404782a-2020-41f2-bcfd-1af9506e756f/ae/57317eab2520f5cff850370118242f\",\n",
      "            \"exit_code\": 0\n",
      "        },\n",
      "        {\n",
      "            \"name\": \"run_flagstat\",\n",
      "            \"cmd\": [\n",
      "                \"#!/bin/bash -ue\",\n",
      "                \"samtools flagstat     -@ 1     HG01890.final.chrX_15494566-15607236.cram > HG01890.final.chrX_15494566-15607236.cram.flagstat\"\n",
      "            ],\n",
      "            \"start_time\": \"2023-12-11T07:53:14Z\",\n",
      "            \"end_time\": \"2023-12-11T07:53:14Z\",\n",
      "            \"stdout\": \"http://elwazi-node.icermali.org:6000/ga4gh/wes/v1/logs/nextflow/stdout/0404782a-2020-41f2-bcfd-1af9506e756f/ef/6ec0ee37f5f69d8c29813a3badca1f\",\n",
      "            \"stderr\": \"http://elwazi-node.icermali.org:6000/ga4gh/wes/v1/logs/nextflow/stderr/0404782a-2020-41f2-bcfd-1af9506e756f/ef/6ec0ee37f5f69d8c29813a3badca1f\",\n",
      "            \"exit_code\": 0\n",
      "        }\n",
      "    ],\n",
      "    \"outputs\": {\n",
      "        \"HG01882.final.chrX_15494566-15607236.cram\": \"file:///opt/ga4gh-starter-kit-wes/wes_runs/04/04/78/0404782a-2020-41f2-bcfd-1af9506e756f/work/bd/d84921419a43c02eaa5f09a80e6dd4/HG01882.final.chrX_15494566-15607236.cram\",\n",
      "        \"HG01880.final.chrX_15494566-15607236.cram\": \"file:///opt/ga4gh-starter-kit-wes/wes_runs/04/04/78/0404782a-2020-41f2-bcfd-1af9506e756f/work/71/a2e5af9a66db4ef2999d0498fe8df6/HG01880.final.chrX_15494566-15607236.cram\",\n",
      "        \"HG01880.final.chrX_15494566-15607236.cram.flagstat\": \"file:///opt/ga4gh-starter-kit-wes/wes_runs/04/04/78/0404782a-2020-41f2-bcfd-1af9506e756f/work/71/a2e5af9a66db4ef2999d0498fe8df6/HG01880.final.chrX_15494566-15607236.cram.flagstat\",\n",
      "        \"HG01890.final.chrX_15494566-15607236.cram.flagstat\": \"file:///opt/ga4gh-starter-kit-wes/wes_runs/04/04/78/0404782a-2020-41f2-bcfd-1af9506e756f/work/ef/6ec0ee37f5f69d8c29813a3badca1f/HG01890.final.chrX_15494566-15607236.cram.flagstat\",\n",
      "        \"HG01886.final.chrX_15494566-15607236.cram\": \"file:///opt/ga4gh-starter-kit-wes/wes_runs/04/04/78/0404782a-2020-41f2-bcfd-1af9506e756f/work/ae/57317eab2520f5cff850370118242f/HG01886.final.chrX_15494566-15607236.cram\",\n",
      "        \"HG01882.final.chrX_15494566-15607236.cram.flagstat\": \"file:///opt/ga4gh-starter-kit-wes/wes_runs/04/04/78/0404782a-2020-41f2-bcfd-1af9506e756f/work/bd/d84921419a43c02eaa5f09a80e6dd4/HG01882.final.chrX_15494566-15607236.cram.flagstat\",\n",
      "        \"HG01889.final.chrX_15494566-15607236.cram\": \"file:///opt/ga4gh-starter-kit-wes/wes_runs/04/04/78/0404782a-2020-41f2-bcfd-1af9506e756f/work/8a/a7b2de96906a6755e9a985d9b15cd7/HG01889.final.chrX_15494566-15607236.cram\",\n",
      "        \"HG01889.final.chrX_15494566-15607236.cram.flagstat\": \"file:///opt/ga4gh-starter-kit-wes/wes_runs/04/04/78/0404782a-2020-41f2-bcfd-1af9506e756f/work/8a/a7b2de96906a6755e9a985d9b15cd7/HG01889.final.chrX_15494566-15607236.cram.flagstat\",\n",
      "        \"HG01886.final.chrX_15494566-15607236.cram.flagstat\": \"file:///opt/ga4gh-starter-kit-wes/wes_runs/04/04/78/0404782a-2020-41f2-bcfd-1af9506e756f/work/ae/57317eab2520f5cff850370118242f/HG01886.final.chrX_15494566-15607236.cram.flagstat\",\n",
      "        \"HG01890.final.chrX_15494566-15607236.cram\": \"file:///opt/ga4gh-starter-kit-wes/wes_runs/04/04/78/0404782a-2020-41f2-bcfd-1af9506e756f/work/ef/6ec0ee37f5f69d8c29813a3badca1f/HG01890.final.chrX_15494566-15607236.cram\"\n",
      "    }\n",
      "}\n",
      "\u001b[38;2;8;138;75mPOST request to http://ga4gh-starter-kit.ilifu.ac.za:6000/ga4gh/wes/v1/runs\u001b[0m\n",
      "{\n",
      "    \"run_id\": \"b2adcd05-f859-4df9-8be3-4822930d8d50\"\n",
      "}\n",
      "\u001b[38;2;8;138;75mrun_id = b2adcd05-f859-4df9-8be3-4822930d8d50\u001b[0m\n",
      "\u001b[38;2;8;138;75mGET request to http://ga4gh-starter-kit.ilifu.ac.za:6000/ga4gh/wes/v1/runs/b2adcd05-f859-4df9-8be3-4822930d8d50\u001b[0m\n",
      "{'run_id': 'b2adcd05-f859-4df9-8be3-4822930d8d50', 'request': {'workflow_params': {'input': '/share/elwazi/crams/HG01883/HG01883.final.chrX_15494566-15607236.cram'}, 'workflow_type': 'NEXTFLOW', 'workflow_type_version': '21.04.0', 'workflow_url': 'https://github.com/grbot/flagstat'}, 'state': 'COMPLETE', 'run_log': {'name': 'grbot/flagstat', 'cmd': ['#!/bin/bash -ue', 'samtools flagstat     -@ 1     HG01883.final.chrX_15494566-15607236.cram > HG01883.final.chrX_15494566-15607236.cram.flagstat'], 'start_time': '2023-12-11T09:53:28Z', 'end_time': '2023-12-11T09:53:28Z', 'stdout': 'http://ga4gh-starter-kit.ilifu.ac.za:6000/ga4gh/wes/v1/logs/nextflow/stdout/b2adcd05-f859-4df9-8be3-4822930d8d50?workdirs=98%2Fd50ebe9766268b8dab20109d046f96', 'stderr': 'http://ga4gh-starter-kit.ilifu.ac.za:6000/ga4gh/wes/v1/logs/nextflow/stderr/b2adcd05-f859-4df9-8be3-4822930d8d50?workdirs=98%2Fd50ebe9766268b8dab20109d046f96', 'exit_code': 0}, 'task_logs': [{'name': 'run_flagstat', 'cmd': ['#!/bin/bash -ue', 'samtools flagstat     -@ 1     HG01883.final.chrX_15494566-15607236.cram > HG01883.final.chrX_15494566-15607236.cram.flagstat'], 'start_time': '2023-12-11T09:53:28Z', 'end_time': '2023-12-11T09:53:28Z', 'stdout': 'http://ga4gh-starter-kit.ilifu.ac.za:6000/ga4gh/wes/v1/logs/nextflow/stdout/b2adcd05-f859-4df9-8be3-4822930d8d50/98/d50ebe9766268b8dab20109d046f96', 'stderr': 'http://ga4gh-starter-kit.ilifu.ac.za:6000/ga4gh/wes/v1/logs/nextflow/stderr/b2adcd05-f859-4df9-8be3-4822930d8d50/98/d50ebe9766268b8dab20109d046f96', 'exit_code': 0}], 'outputs': {'HG01883.final.chrX_15494566-15607236.cram': 'file:///opt/ga4gh-starter-kit-wes/wes_runs/b2/ad/cd/b2adcd05-f859-4df9-8be3-4822930d8d50/work/98/d50ebe9766268b8dab20109d046f96/HG01883.final.chrX_15494566-15607236.cram', 'HG01883.final.chrX_15494566-15607236.cram.flagstat': 'file:///opt/ga4gh-starter-kit-wes/wes_runs/b2/ad/cd/b2adcd05-f859-4df9-8be3-4822930d8d50/work/98/d50ebe9766268b8dab20109d046f96/HG01883.final.chrX_15494566-15607236.cram.flagstat'}}\n",
      "Job running status: COMPLETE\n",
      "{\n",
      "    \"run_id\": \"b2adcd05-f859-4df9-8be3-4822930d8d50\",\n",
      "    \"request\": {\n",
      "        \"workflow_params\": {\n",
      "            \"input\": \"/share/elwazi/crams/HG01883/HG01883.final.chrX_15494566-15607236.cram\"\n",
      "        },\n",
      "        \"workflow_type\": \"NEXTFLOW\",\n",
      "        \"workflow_type_version\": \"21.04.0\",\n",
      "        \"workflow_url\": \"https://github.com/grbot/flagstat\"\n",
      "    },\n",
      "    \"state\": \"COMPLETE\",\n",
      "    \"run_log\": {\n",
      "        \"name\": \"grbot/flagstat\",\n",
      "        \"cmd\": [\n",
      "            \"#!/bin/bash -ue\",\n",
      "            \"samtools flagstat     -@ 1     HG01883.final.chrX_15494566-15607236.cram > HG01883.final.chrX_15494566-15607236.cram.flagstat\"\n",
      "        ],\n",
      "        \"start_time\": \"2023-12-11T09:53:28Z\",\n",
      "        \"end_time\": \"2023-12-11T09:53:28Z\",\n",
      "        \"stdout\": \"http://ga4gh-starter-kit.ilifu.ac.za:6000/ga4gh/wes/v1/logs/nextflow/stdout/b2adcd05-f859-4df9-8be3-4822930d8d50?workdirs=98%2Fd50ebe9766268b8dab20109d046f96\",\n",
      "        \"stderr\": \"http://ga4gh-starter-kit.ilifu.ac.za:6000/ga4gh/wes/v1/logs/nextflow/stderr/b2adcd05-f859-4df9-8be3-4822930d8d50?workdirs=98%2Fd50ebe9766268b8dab20109d046f96\",\n",
      "        \"exit_code\": 0\n",
      "    },\n",
      "    \"task_logs\": [\n",
      "        {\n",
      "            \"name\": \"run_flagstat\",\n",
      "            \"cmd\": [\n",
      "                \"#!/bin/bash -ue\",\n",
      "                \"samtools flagstat     -@ 1     HG01883.final.chrX_15494566-15607236.cram > HG01883.final.chrX_15494566-15607236.cram.flagstat\"\n",
      "            ],\n",
      "            \"start_time\": \"2023-12-11T09:53:28Z\",\n",
      "            \"end_time\": \"2023-12-11T09:53:28Z\",\n",
      "            \"stdout\": \"http://ga4gh-starter-kit.ilifu.ac.za:6000/ga4gh/wes/v1/logs/nextflow/stdout/b2adcd05-f859-4df9-8be3-4822930d8d50/98/d50ebe9766268b8dab20109d046f96\",\n",
      "            \"stderr\": \"http://ga4gh-starter-kit.ilifu.ac.za:6000/ga4gh/wes/v1/logs/nextflow/stderr/b2adcd05-f859-4df9-8be3-4822930d8d50/98/d50ebe9766268b8dab20109d046f96\",\n",
      "            \"exit_code\": 0\n",
      "        }\n",
      "    ],\n",
      "    \"outputs\": {\n",
      "        \"HG01883.final.chrX_15494566-15607236.cram\": \"file:///opt/ga4gh-starter-kit-wes/wes_runs/b2/ad/cd/b2adcd05-f859-4df9-8be3-4822930d8d50/work/98/d50ebe9766268b8dab20109d046f96/HG01883.final.chrX_15494566-15607236.cram\",\n",
      "        \"HG01883.final.chrX_15494566-15607236.cram.flagstat\": \"file:///opt/ga4gh-starter-kit-wes/wes_runs/b2/ad/cd/b2adcd05-f859-4df9-8be3-4822930d8d50/work/98/d50ebe9766268b8dab20109d046f96/HG01883.final.chrX_15494566-15607236.cram.flagstat\"\n",
      "    }\n",
      "}\n"
     ]
    }
   ],
   "source": [
    "import time\n",
    "# Populate with drs_ids_str\n",
    "for drs_server in drs_servers:\n",
    "    print (\"Launching jobs on server: \" + drs_server)\n",
    "    drs_ids = drs_servers[drs_server]['drs_ids']\n",
    "    drs_ids_str = \"\"\n",
    "    for drs_id in drs_ids:\n",
    "        drs_ids_str = drs_ids_str + drs_id + \" \"\n",
    "    drs_ids_str = drs_ids_str[:-1]\n",
    "#     print (drs_ids_str)\n",
    "    drs_servers[drs_server]['drs_ids_str'] = drs_ids_str\n",
    "\n",
    "# Launch workflow\n",
    "for drs_server in drs_servers:\n",
    "    wes_port = \"6000\"\n",
    "    ga4gh_base_url = \"http://\" + drs_server + \":{}/ga4gh/{}/v1\"\n",
    "    wes_base_url = ga4gh_base_url.format(wes_port,\"wes\")\n",
    "\n",
    "    runs_path = \"/runs\"\n",
    "\n",
    "    http_method = \"POST\"\n",
    "    request_url = wes_base_url + runs_path\n",
    "\n",
    "    nextflow_workflow_url = \"https://github.com/grbot/flagstat\"\n",
    "\n",
    "    input_file = drs_servers[drs_server]['drs_ids_str']\n",
    "    \n",
    "    data = {\n",
    "        'workflow_type': 'NEXTFLOW',\n",
    "        'workflow_type_version': '21.04.0',\n",
    "        'workflow_url': nextflow_workflow_url,\n",
    "        'workflow_params': f'{{\"input\":\"{input_file}\"}}'\n",
    "    }\n",
    "\n",
    "    print_head(\"{} request to {}\".format(http_method, request_url))\n",
    "\n",
    "    # Post a Nextflow workflow\n",
    "    wes_post_workflow_response = requests.request(http_method, request_url, data = data)\n",
    "\n",
    "    # print the response\n",
    "    pretty_print_json(wes_post_workflow_response)\n",
    "\n",
    "    current_run_id = wes_post_workflow_response.json()[\"run_id\"]\n",
    "\n",
    "    print_head(\"run_id = {}\".format(current_run_id))\n",
    "\n",
    "    ## We don't launch in parallel for now. Just poll a submitted job and retrieve the results\n",
    "    http_method = \"GET\"\n",
    "    request_url = wes_base_url + runs_path + \"/\" + current_run_id\n",
    "\n",
    "    print_head(\"{} request to {}\".format(http_method, request_url))\n",
    "\n",
    "    # Get request to /runs/{run_id}\n",
    "#     monitor_run_response = requests.request(http_method, request_url) \n",
    "    time.sleep(15)\n",
    "    monitor_run_response = requests.request(http_method, request_url)\n",
    "    \n",
    "    # Poll until job is complete\n",
    "\n",
    "    print(monitor_run_response.json())\n",
    "    while monitor_run_response.json()[\"state\"] != \"COMPLETE\":\n",
    "        print(\"Current job status: \" + monitor_run_response.json()[\"state\"])\n",
    "        time.sleep(5)\n",
    "        monitor_run_response = requests.request(http_method, request_url)\n",
    "\n",
    "    print(\"Job running status: \" + monitor_run_response.json()[\"state\"])\n",
    "    pretty_print_json(monitor_run_response)\n",
    "\n",
    "    drs_servers[drs_server]['run_id'] = current_run_id\n",
    "    drs_servers[drs_server]['outputs'] = monitor_run_response.json()[\"outputs\"]\n"
   ]
  },
  {
   "cell_type": "markdown",
   "id": "98535823-792a-493a-b03e-3189c34affc8",
   "metadata": {},
   "source": [
    "2. a) Upload results to individual DRS servers and get a list of DRS objects (this will not work need to run 2 b) and explained there)"
   ]
  },
  {
   "cell_type": "code",
   "execution_count": null,
   "id": "c578cdb5-0f8c-49d6-8725-e3bd5cef3fcc",
   "metadata": {
    "slideshow": {
     "slide_type": ""
    },
    "tags": []
   },
   "outputs": [],
   "source": [
    "# importlib.reload(upload_to_drs)\n",
    "\n",
    "# drs_ids_str = \"\"\n",
    "\n",
    "# for drs_server in drs_servers:\n",
    "\n",
    "#     run_id = drs_servers[drs_server]['run_id']\n",
    "#     outputs = drs_servers[drs_server][\"outputs\"]\n",
    "\n",
    "#     for key in outputs:\n",
    "#         if '.flagstat' in key:\n",
    "#             file = outputs[key][7:]\n",
    "#             file_ext = file.split(\".\")[-1]\n",
    "#             print (file)\n",
    "#             meta_d = upload_to_drs.files_metadata_test(run_id, file, file_ext)\n",
    "#             upload_to_drs.add_file_to_server(meta_d, file_ext, drs_server,'5001') #adds drs object\n",
    "#             drs_id = \"drs://\" + drs_server + \":5000/\" + meta_d[0][3]\n",
    "#             drs_ids_str = drs_ids_str + \" \"  + drs_id\n",
    "            \n",
    "# drs_ids_str = drs_ids_str[:-1]\n",
    "\n",
    "    "
   ]
  },
  {
   "cell_type": "markdown",
   "id": "00d81ec0-cb6d-45cb-b52b-b53adb494c9d",
   "metadata": {},
   "source": [
    "2. b) Upload results to individual DRS servers and get a list of DRS access URLs\n",
    "   "
   ]
  },
  {
   "cell_type": "code",
   "execution_count": 33,
   "id": "61ba77f0-0e73-4d37-9513-bedb969853b9",
   "metadata": {
    "slideshow": {
     "slide_type": ""
    },
    "tags": []
   },
   "outputs": [
    {
     "name": "stdout",
     "output_type": "stream",
     "text": [
      "HG01880.final.chrX_15494566-15607236.cram.flagstat\n",
      "HG01890.final.chrX_15494566-15607236.cram.flagstat\n",
      "HG01882.final.chrX_15494566-15607236.cram.flagstat\n",
      "HG01889.final.chrX_15494566-15607236.cram.flagstat\n",
      "HG01886.final.chrX_15494566-15607236.cram.flagstat\n",
      "HG01883.final.chrX_15494566-15607236.cram.flagstat\n",
      "WARNING: Unsuccessful object creation for DRS object with ID: 'd45d23e2824cff986aadb593c5b48ba1'. Status Code: 500. Error Message: Internal Server Error\n"
     ]
    },
    {
     "ename": "KeyError",
     "evalue": "'access_methods'",
     "output_type": "error",
     "traceback": [
      "\u001b[0;31m---------------------------------------------------------------------------\u001b[0m",
      "\u001b[0;31mKeyError\u001b[0m                                  Traceback (most recent call last)",
      "\u001b[1;32m/home/taku/elwazi-pilot-node-with-broker.ipynb Cell 58\u001b[0m line \u001b[0;36m3\n\u001b[1;32m     <a href='vscode-notebook-cell://ssh-remote%2Bga4gh-starter-kit.ilifu.ac.za/home/taku/elwazi-pilot-node-with-broker.ipynb#Y112sdnNjb2RlLXJlbW90ZQ%3D%3D?line=29'>30</a>\u001b[0m data \u001b[39m=\u001b[39m drs_object_response\u001b[39m.\u001b[39mjson()\n\u001b[1;32m     <a href='vscode-notebook-cell://ssh-remote%2Bga4gh-starter-kit.ilifu.ac.za/home/taku/elwazi-pilot-node-with-broker.ipynb#Y112sdnNjb2RlLXJlbW90ZQ%3D%3D?line=30'>31</a>\u001b[0m \u001b[39m# We cannot use DRS objects here and need to directly stream. DRS objects only resolve to local path\u001b[39;00m\n\u001b[1;32m     <a href='vscode-notebook-cell://ssh-remote%2Bga4gh-starter-kit.ilifu.ac.za/home/taku/elwazi-pilot-node-with-broker.ipynb#Y112sdnNjb2RlLXJlbW90ZQ%3D%3D?line=31'>32</a>\u001b[0m \u001b[39m# and if path is not on server their would be a failure. The disadvantage of using stream is that you loose\u001b[39;00m\n\u001b[1;32m     <a href='vscode-notebook-cell://ssh-remote%2Bga4gh-starter-kit.ilifu.ac.za/home/taku/elwazi-pilot-node-with-broker.ipynb#Y112sdnNjb2RlLXJlbW90ZQ%3D%3D?line=32'>33</a>\u001b[0m \u001b[39m# the file naming.\u001b[39;00m\n\u001b[0;32m---> <a href='vscode-notebook-cell://ssh-remote%2Bga4gh-starter-kit.ilifu.ac.za/home/taku/elwazi-pilot-node-with-broker.ipynb#Y112sdnNjb2RlLXJlbW90ZQ%3D%3D?line=33'>34</a>\u001b[0m access_url \u001b[39m=\u001b[39m request_url \u001b[39m+\u001b[39m \u001b[39m\"\u001b[39m\u001b[39m/access/\u001b[39m\u001b[39m\"\u001b[39m \u001b[39m+\u001b[39m (data[\u001b[39m'\u001b[39;49m\u001b[39maccess_methods\u001b[39;49m\u001b[39m'\u001b[39;49m][\u001b[39m1\u001b[39m][\u001b[39m'\u001b[39m\u001b[39maccess_id\u001b[39m\u001b[39m'\u001b[39m])\n\u001b[1;32m     <a href='vscode-notebook-cell://ssh-remote%2Bga4gh-starter-kit.ilifu.ac.za/home/taku/elwazi-pilot-node-with-broker.ipynb#Y112sdnNjb2RlLXJlbW90ZQ%3D%3D?line=34'>35</a>\u001b[0m drs_object_response \u001b[39m=\u001b[39m requests\u001b[39m.\u001b[39mrequest(http_method, access_url)\n\u001b[1;32m     <a href='vscode-notebook-cell://ssh-remote%2Bga4gh-starter-kit.ilifu.ac.za/home/taku/elwazi-pilot-node-with-broker.ipynb#Y112sdnNjb2RlLXJlbW90ZQ%3D%3D?line=35'>36</a>\u001b[0m drs_url \u001b[39m=\u001b[39m drs_object_response\u001b[39m.\u001b[39mjson()[\u001b[39m\"\u001b[39m\u001b[39murl\u001b[39m\u001b[39m\"\u001b[39m]\n",
      "\u001b[0;31mKeyError\u001b[0m: 'access_methods'"
     ]
    }
   ],
   "source": [
    "import importlib\n",
    "import upload_to_drs\n",
    "\n",
    "importlib.reload(upload_to_drs)\n",
    "\n",
    "drs_urls_str = \"\"\n",
    "\n",
    "for drs_server in drs_servers:\n",
    "\n",
    "    run_id = drs_servers[drs_server]['run_id']\n",
    "    outputs = drs_servers[drs_server][\"outputs\"]\n",
    "\n",
    "    for key in outputs:\n",
    "        if '.flagstat' in key:\n",
    "            print (key)\n",
    "            file = outputs[key][7:]\n",
    "            file_ext = file.split(\".\")[-1]\n",
    "            meta_d = upload_to_drs.files_metadata_test(run_id, file, file_ext)\n",
    "            upload_to_drs.add_file_to_server(meta_d, file_ext, drs_server,'5001') #adds drs object\n",
    "            drs_id = meta_d[0][3]\n",
    "            drs_port = 5000\n",
    "            object_path_get = \"/objects/{}\"\n",
    "            http_method = \"GET\"\n",
    "            ga4gh_base_url = \"http://\" + drs_server + \":{}/ga4gh/{}/v1\"\n",
    "            drs_base_url = ga4gh_base_url.format(drs_port,\"drs\")\n",
    "            request_url = drs_base_url + object_path_get.format(drs_id)\n",
    "            #print_head(\"{} request to {}\".format(http_method, request_url))\n",
    "            drs_object_response = requests.request(http_method, request_url)\n",
    "            #pretty_print_json(drs_object_response)\n",
    "            data = drs_object_response.json()\n",
    "            # We cannot use DRS objects here and need to directly stream. DRS objects only resolve to local path\n",
    "            # and if path is not on server their would be a failure. The disadvantage of using stream is that you loose\n",
    "            # the file naming.\n",
    "            access_url = request_url + \"/access/\" + (data['access_methods'][1]['access_id'])\n",
    "            drs_object_response = requests.request(http_method, access_url)\n",
    "            drs_url = drs_object_response.json()[\"url\"]\n",
    "            drs_urls_str = drs_urls_str + drs_url + \" \"\n",
    "    \n",
    "drs_urls_str = drs_urls_str[:-1]\n",
    "print(drs_urls_str)\n"
   ]
  },
  {
   "cell_type": "markdown",
   "id": "316e80bf-9a38-4c91-bdf2-9f449937b189",
   "metadata": {},
   "source": [
    "3. Launch the workflow that will combine the results"
   ]
  },
  {
   "cell_type": "code",
   "execution_count": 209,
   "id": "fe0efeed-2710-4bb6-98d6-945a45db8714",
   "metadata": {
    "slideshow": {
     "slide_type": ""
    },
    "tags": []
   },
   "outputs": [
    {
     "name": "stdout",
     "output_type": "stream",
     "text": [
      "\u001b[38;2;8;138;75mPOST request to http://ga4gh-starter-kit.ilifu.ac.za:6000/ga4gh/wes/v1/runs\u001b[0m\n",
      "{\n",
      "    \"run_id\": \"0db7c152-8edf-4dd6-bc53-99b36952dfe1\"\n",
      "}\n",
      "\u001b[38;2;8;138;75mrun_id = 0db7c152-8edf-4dd6-bc53-99b36952dfe1\u001b[0m\n"
     ]
    }
   ],
   "source": [
    "wes_port = \"6000\"\n",
    "drs_server_central = \"ga4gh-starter-kit.ilifu.ac.za\"\n",
    "ga4gh_base_url = \"http://\" + drs_server_central + \":{}/ga4gh/{}/v1\"\n",
    "wes_base_url = ga4gh_base_url.format(wes_port,\"wes\")\n",
    "\n",
    "service_info_path = \"/service-info\"\n",
    "runs_path = \"/runs\"\n",
    "\n",
    "http_method = \"POST\"\n",
    "request_url = wes_base_url + runs_path\n",
    "\n",
    "nextflow_workflow_url = \"https://github.com/grbot/multiqc\"\n",
    "input_file = drs_urls_str\n",
    "\n",
    "#print (drs_str)\n",
    "\n",
    "data = {\n",
    "    'workflow_type': 'NEXTFLOW',\n",
    "    'workflow_type_version': '21.04.0',\n",
    "    'workflow_url': nextflow_workflow_url,\n",
    "    'workflow_params': f'{{\"input\":\"{input_file}\"}}'\n",
    "}\n",
    "\n",
    "print_head(\"{} request to {}\".format(http_method, request_url))\n",
    "\n",
    "# Post a Nextflow workflow\n",
    "wes_post_workflow_response = requests.request(http_method, request_url, data = data)\n",
    "\n",
    "# print the response\n",
    "pretty_print_json(wes_post_workflow_response)\n",
    "\n",
    "current_run_id = wes_post_workflow_response.json()[\"run_id\"]\n",
    "\n",
    "print_head(\"run_id = {}\".format(current_run_id))"
   ]
  },
  {
   "cell_type": "markdown",
   "id": "7dee6ed9-aa2a-4504-a2d1-fedea50776b7",
   "metadata": {},
   "source": [
    "4. Poll for results"
   ]
  },
  {
   "cell_type": "code",
   "execution_count": 210,
   "id": "279660a1-ccb2-47a7-b995-9285b1d602ad",
   "metadata": {
    "scrolled": true,
    "slideshow": {
     "slide_type": ""
    },
    "tags": []
   },
   "outputs": [
    {
     "name": "stdout",
     "output_type": "stream",
     "text": [
      "\u001b[38;2;8;138;75mGET request to http://ga4gh-starter-kit.ilifu.ac.za:6000/ga4gh/wes/v1/runs/0db7c152-8edf-4dd6-bc53-99b36952dfe1\u001b[0m\n",
      "<Response [200]>\n",
      "Job running status: COMPLETE\n",
      "{\n",
      "    \"run_id\": \"0db7c152-8edf-4dd6-bc53-99b36952dfe1\",\n",
      "    \"request\": {\n",
      "        \"workflow_params\": {\n",
      "            \"input\": \"http://elwazi-node.icermali.org:5000/ga4gh/drs/v1/stream/6f9a75e6e4e986f7418aaf7d56bec6e4/00605d2c-3bde-455a-bdc1-18680b526dbb http://elwazi-node.icermali.org:5000/ga4gh/drs/v1/stream/0a05695a4570a54efcd3d6b70963f3bf/add01a8d-b784-4b58-ad5c-5a9f0261f1d0 http://elwazi-node.icermali.org:5000/ga4gh/drs/v1/stream/556a09c030dbfd19c670c97c99653389/24363342-5891-431b-8879-5ad4cdf4e0d8 http://elwazi-node.icermali.org:5000/ga4gh/drs/v1/stream/bbe9a879b8ba187b3c383fb041a6d2e6/64a1dded-0ee8-44d0-a9d2-c642c8dfc359 http://elwazi-node.icermali.org:5000/ga4gh/drs/v1/stream/a6bbb32e20cffd27a44ee87562f513c2/9c76fce9-565b-4562-aa00-1322e0420aba \"\n",
      "        },\n",
      "        \"workflow_type\": \"NEXTFLOW\",\n",
      "        \"workflow_type_version\": \"21.04.0\",\n",
      "        \"workflow_url\": \"https://github.com/grbot/multiqc\"\n",
      "    },\n",
      "    \"state\": \"COMPLETE\",\n",
      "    \"run_log\": {\n",
      "        \"name\": \"grbot/multiqc\",\n",
      "        \"cmd\": [\n",
      "            \"#!/bin/bash -ue\",\n",
      "            \"multiqc .\"\n",
      "        ],\n",
      "        \"start_time\": \"2023-12-10T19:15:22Z\",\n",
      "        \"end_time\": \"2023-12-10T19:15:26Z\",\n",
      "        \"stdout\": \"http://ga4gh-starter-kit.ilifu.ac.za:6000/ga4gh/wes/v1/logs/nextflow/stdout/0db7c152-8edf-4dd6-bc53-99b36952dfe1?workdirs=ae%2Ff276c65dd413a0d724252df8cc2c1d\",\n",
      "        \"stderr\": \"http://ga4gh-starter-kit.ilifu.ac.za:6000/ga4gh/wes/v1/logs/nextflow/stderr/0db7c152-8edf-4dd6-bc53-99b36952dfe1?workdirs=ae%2Ff276c65dd413a0d724252df8cc2c1d\",\n",
      "        \"exit_code\": 0\n",
      "    },\n",
      "    \"task_logs\": [\n",
      "        {\n",
      "            \"name\": \"run_multiqc\",\n",
      "            \"cmd\": [\n",
      "                \"#!/bin/bash -ue\",\n",
      "                \"multiqc .\"\n",
      "            ],\n",
      "            \"start_time\": \"2023-12-10T19:15:22Z\",\n",
      "            \"end_time\": \"2023-12-10T19:15:26Z\",\n",
      "            \"stdout\": \"http://ga4gh-starter-kit.ilifu.ac.za:6000/ga4gh/wes/v1/logs/nextflow/stdout/0db7c152-8edf-4dd6-bc53-99b36952dfe1/ae/f276c65dd413a0d724252df8cc2c1d\",\n",
      "            \"stderr\": \"http://ga4gh-starter-kit.ilifu.ac.za:6000/ga4gh/wes/v1/logs/nextflow/stderr/0db7c152-8edf-4dd6-bc53-99b36952dfe1/ae/f276c65dd413a0d724252df8cc2c1d\",\n",
      "            \"exit_code\": 0\n",
      "        }\n",
      "    ],\n",
      "    \"outputs\": {\n",
      "        \"9c76fce9-565b-4562-aa00-1322e0420aba\": \"file:///opt/ga4gh-starter-kit-wes/wes_runs/0d/b7/c1/0db7c152-8edf-4dd6-bc53-99b36952dfe1/work/ae/f276c65dd413a0d724252df8cc2c1d/9c76fce9-565b-4562-aa00-1322e0420aba\",\n",
      "        \"00605d2c-3bde-455a-bdc1-18680b526dbb\": \"file:///opt/ga4gh-starter-kit-wes/wes_runs/0d/b7/c1/0db7c152-8edf-4dd6-bc53-99b36952dfe1/work/ae/f276c65dd413a0d724252df8cc2c1d/00605d2c-3bde-455a-bdc1-18680b526dbb\",\n",
      "        \"64a1dded-0ee8-44d0-a9d2-c642c8dfc359\": \"file:///opt/ga4gh-starter-kit-wes/wes_runs/0d/b7/c1/0db7c152-8edf-4dd6-bc53-99b36952dfe1/work/ae/f276c65dd413a0d724252df8cc2c1d/64a1dded-0ee8-44d0-a9d2-c642c8dfc359\",\n",
      "        \"24363342-5891-431b-8879-5ad4cdf4e0d8\": \"file:///opt/ga4gh-starter-kit-wes/wes_runs/0d/b7/c1/0db7c152-8edf-4dd6-bc53-99b36952dfe1/work/ae/f276c65dd413a0d724252df8cc2c1d/24363342-5891-431b-8879-5ad4cdf4e0d8\",\n",
      "        \"multiqc_data/multiqc_sources.txt\": \"file:///opt/ga4gh-starter-kit-wes/wes_runs/0d/b7/c1/0db7c152-8edf-4dd6-bc53-99b36952dfe1/work/ae/f276c65dd413a0d724252df8cc2c1d/multiqc_data/multiqc_sources.txt\",\n",
      "        \"multiqc_data/multiqc_data.json\": \"file:///opt/ga4gh-starter-kit-wes/wes_runs/0d/b7/c1/0db7c152-8edf-4dd6-bc53-99b36952dfe1/work/ae/f276c65dd413a0d724252df8cc2c1d/multiqc_data/multiqc_data.json\",\n",
      "        \"add01a8d-b784-4b58-ad5c-5a9f0261f1d0\": \"file:///opt/ga4gh-starter-kit-wes/wes_runs/0d/b7/c1/0db7c152-8edf-4dd6-bc53-99b36952dfe1/work/ae/f276c65dd413a0d724252df8cc2c1d/add01a8d-b784-4b58-ad5c-5a9f0261f1d0\",\n",
      "        \"multiqc_data/multiqc_citations.txt\": \"file:///opt/ga4gh-starter-kit-wes/wes_runs/0d/b7/c1/0db7c152-8edf-4dd6-bc53-99b36952dfe1/work/ae/f276c65dd413a0d724252df8cc2c1d/multiqc_data/multiqc_citations.txt\",\n",
      "        \"multiqc_data/multiqc_samtools_flagstat.txt\": \"file:///opt/ga4gh-starter-kit-wes/wes_runs/0d/b7/c1/0db7c152-8edf-4dd6-bc53-99b36952dfe1/work/ae/f276c65dd413a0d724252df8cc2c1d/multiqc_data/multiqc_samtools_flagstat.txt\",\n",
      "        \"multiqc_data/multiqc_general_stats.txt\": \"file:///opt/ga4gh-starter-kit-wes/wes_runs/0d/b7/c1/0db7c152-8edf-4dd6-bc53-99b36952dfe1/work/ae/f276c65dd413a0d724252df8cc2c1d/multiqc_data/multiqc_general_stats.txt\",\n",
      "        \"multiqc_data/multiqc.log\": \"file:///opt/ga4gh-starter-kit-wes/wes_runs/0d/b7/c1/0db7c152-8edf-4dd6-bc53-99b36952dfe1/work/ae/f276c65dd413a0d724252df8cc2c1d/multiqc_data/multiqc.log\",\n",
      "        \"multiqc_report.html\": \"file:///opt/ga4gh-starter-kit-wes/wes_runs/0d/b7/c1/0db7c152-8edf-4dd6-bc53-99b36952dfe1/work/ae/f276c65dd413a0d724252df8cc2c1d/multiqc_report.html\"\n",
      "    }\n",
      "}\n"
     ]
    }
   ],
   "source": [
    "import time\n",
    "# On first run might get the error not able to find [\"state\"]. This is due to underlying isssue below.\n",
    "#{\n",
    "#    \"timestamp\": \"2023-07-27T17:10:08Z\",\n",
    "#    \"status_code\": 400,\n",
    "#    \"error\": \"Bad Request\",\n",
    "#    \"msg\": \"Could not load WES run log\"\n",
    "#}\n",
    "# Just rerun for now and then polling will start\n",
    "\n",
    "http_method = \"GET\"\n",
    "request_url = wes_base_url + runs_path + \"/\" + current_run_id\n",
    "\n",
    "print_head(\"{} request to {}\".format(http_method, request_url))\n",
    "\n",
    "# Get request to /runs/{run_id}\n",
    "monitor_run_response = requests.request(http_method, request_url)\n",
    "time.sleep(15) # This delay resolves the issue mentioned above\n",
    "monitor_run_response = requests.request(http_method, request_url)\n",
    "\n",
    "print(monitor_run_response)\n",
    "\n",
    "# Poll until job is complete\n",
    "while monitor_run_response.json()[\"state\"]!=\"COMPLETE\":\n",
    "    print(\"Current job status: \" + monitor_run_response.json()[\"state\"])\n",
    "    time.sleep(5)\n",
    "    monitor_run_response = requests.request(http_method, request_url)\n",
    "\n",
    "print(\"Job running status: \" + monitor_run_response.json()[\"state\"])\n",
    "pretty_print_json(monitor_run_response)"
   ]
  },
  {
   "cell_type": "markdown",
   "id": "89fb42f2-f2c7-4302-9cff-08d81beb28dc",
   "metadata": {},
   "source": [
    "5. Upload `multiqc_report.html` to central DRS server"
   ]
  },
  {
   "cell_type": "code",
   "execution_count": 211,
   "id": "76967eca-51f0-4cd0-a644-6dc9ee3ec57f",
   "metadata": {},
   "outputs": [
    {
     "name": "stdout",
     "output_type": "stream",
     "text": [
      "file:///opt/ga4gh-starter-kit-wes/wes_runs/0d/b7/c1/0db7c152-8edf-4dd6-bc53-99b36952dfe1/work/ae/f276c65dd413a0d724252df8cc2c1d/multiqc_report.html\n",
      "WARNING: Unsuccessful object creation for DRS object with ID: 'ab6e589fbc248f4690f1103c49d980f0'. Status Code: 500. Error Message: Internal Server Error\n"
     ]
    }
   ],
   "source": [
    "import importlib\n",
    "import upload_to_drs\n",
    "importlib.reload(upload_to_drs)\n",
    "\n",
    "run_id = monitor_run_response.json()['run_id']\n",
    "outputs = monitor_run_response.json()[\"outputs\"]\n",
    "\n",
    "for key in outputs:\n",
    "    if 'multiqc_report.html' in key:\n",
    "        print (outputs[key])\n",
    "        file = outputs[key][7:]\n",
    "        file_ext = file.split(\".\")[-1]\n",
    "        meta_d = upload_to_drs.files_metadata_test(run_id, file, file_ext)\n",
    "        upload_to_drs.add_file_to_server(meta_d, file_ext, drs_server_central,'5001') #adds drs object\n",
    "        drs_id = meta_d[0][3]"
   ]
  },
  {
   "cell_type": "markdown",
   "id": "8cc01dc0-61ed-4d4b-aad0-4ddccd5a5510",
   "metadata": {},
   "source": [
    "6. Download `multiqc_report.html`"
   ]
  },
  {
   "cell_type": "code",
   "execution_count": 212,
   "id": "51462c75-2835-47a6-99bc-c27bf69578bd",
   "metadata": {},
   "outputs": [
    {
     "ename": "KeyError",
     "evalue": "'access_methods'",
     "output_type": "error",
     "traceback": [
      "\u001b[0;31m---------------------------------------------------------------------------\u001b[0m",
      "\u001b[0;31mKeyError\u001b[0m                                  Traceback (most recent call last)",
      "\u001b[1;32m/home/taku/elwazi-pilot-node-install/resources/south-africa/orchestrator/elwazi-pilot-node-tests.ipynb Cell 67\u001b[0m line \u001b[0;36m1\n\u001b[1;32m     <a href='vscode-notebook-cell://ssh-remote%2Bga4gh-starter-kit.ilifu.ac.za/home/taku/elwazi-pilot-node-install/resources/south-africa/orchestrator/elwazi-pilot-node-tests.ipynb#Y102sdnNjb2RlLXJlbW90ZQ%3D%3D?line=11'>12</a>\u001b[0m \u001b[39m#pretty_print_json(drs_object_response)\u001b[39;00m\n\u001b[1;32m     <a href='vscode-notebook-cell://ssh-remote%2Bga4gh-starter-kit.ilifu.ac.za/home/taku/elwazi-pilot-node-install/resources/south-africa/orchestrator/elwazi-pilot-node-tests.ipynb#Y102sdnNjb2RlLXJlbW90ZQ%3D%3D?line=12'>13</a>\u001b[0m data \u001b[39m=\u001b[39m drs_object_response\u001b[39m.\u001b[39mjson()\n\u001b[0;32m---> <a href='vscode-notebook-cell://ssh-remote%2Bga4gh-starter-kit.ilifu.ac.za/home/taku/elwazi-pilot-node-install/resources/south-africa/orchestrator/elwazi-pilot-node-tests.ipynb#Y102sdnNjb2RlLXJlbW90ZQ%3D%3D?line=13'>14</a>\u001b[0m access_url \u001b[39m=\u001b[39m request_url \u001b[39m+\u001b[39m \u001b[39m\"\u001b[39m\u001b[39m/access/\u001b[39m\u001b[39m\"\u001b[39m \u001b[39m+\u001b[39m (data[\u001b[39m'\u001b[39;49m\u001b[39maccess_methods\u001b[39;49m\u001b[39m'\u001b[39;49m][\u001b[39m1\u001b[39m][\u001b[39m'\u001b[39m\u001b[39maccess_id\u001b[39m\u001b[39m'\u001b[39m])\n\u001b[1;32m     <a href='vscode-notebook-cell://ssh-remote%2Bga4gh-starter-kit.ilifu.ac.za/home/taku/elwazi-pilot-node-install/resources/south-africa/orchestrator/elwazi-pilot-node-tests.ipynb#Y102sdnNjb2RlLXJlbW90ZQ%3D%3D?line=14'>15</a>\u001b[0m \u001b[39m#print(access_path)\u001b[39;00m\n\u001b[1;32m     <a href='vscode-notebook-cell://ssh-remote%2Bga4gh-starter-kit.ilifu.ac.za/home/taku/elwazi-pilot-node-install/resources/south-africa/orchestrator/elwazi-pilot-node-tests.ipynb#Y102sdnNjb2RlLXJlbW90ZQ%3D%3D?line=15'>16</a>\u001b[0m drs_object_response \u001b[39m=\u001b[39m requests\u001b[39m.\u001b[39mrequest(http_method, access_url)\n",
      "\u001b[0;31mKeyError\u001b[0m: 'access_methods'"
     ]
    }
   ],
   "source": [
    "import urllib.request\n",
    "\n",
    "drs_port = 5000\n",
    "\n",
    "object_path_get = \"/objects/{}\"\n",
    "http_method = \"GET\"\n",
    "ga4gh_base_url = \"http://\" + drs_server_central + \":{}/ga4gh/{}/v1\"\n",
    "drs_base_url = ga4gh_base_url.format(drs_port,\"drs\")\n",
    "request_url = drs_base_url + object_path_get.format(drs_id)\n",
    "#print_head(\"{} request to {}\".format(http_method, request_url))\n",
    "drs_object_response = requests.request(http_method, request_url)\n",
    "#pretty_print_json(drs_object_response)\n",
    "data = drs_object_response.json()\n",
    "access_url = request_url + \"/access/\" + (data['access_methods'][1]['access_id'])\n",
    "#print(access_path)\n",
    "drs_object_response = requests.request(http_method, access_url)\n",
    "download_url = drs_object_response.json()[\"url\"]\n",
    "print(download_url)\n",
    "urllib.request.urlretrieve(download_url, \"multiqc_report_2.html\")"
   ]
  }
 ],
 "metadata": {
  "kernelspec": {
   "display_name": "Python 3 (ipykernel)",
   "language": "python",
   "name": "python3"
  },
  "language_info": {
   "codemirror_mode": {
    "name": "ipython",
    "version": 3
   },
   "file_extension": ".py",
   "mimetype": "text/x-python",
   "name": "python",
   "nbconvert_exporter": "python",
   "pygments_lexer": "ipython3",
   "version": "3.10.6"
  }
 },
 "nbformat": 4,
 "nbformat_minor": 5
}
