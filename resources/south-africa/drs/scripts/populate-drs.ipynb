{
 "cells": [
  {
   "cell_type": "code",
   "execution_count": 14,
   "id": "1e9986a9",
   "metadata": {},
   "outputs": [],
   "source": [
    "import requests\n",
    "import datetime\n",
    "import json\n",
    "import hashlib\n",
    "import glob\n",
    "import os"
   ]
  },
  {
   "cell_type": "code",
   "execution_count": 15,
   "id": "84d8c632",
   "metadata": {},
   "outputs": [],
   "source": [
    "drs_map = {}\n",
    "timestamp = datetime.datetime.now().strftime(\"%Y-%m-%dT%H:%M:%SZ\")\n",
    "aws_region = \"UCT-ICTS-DC\"\n",
    "aws_bucket = \"oss.ilifu.ac.za:6780/a2d39f437ddd48dfad9f068a0d5a4ee2:elwazi-pilot-node-install\""
   ]
  },
  {
   "cell_type": "code",
   "execution_count": 16,
   "id": "398a1e6a",
   "metadata": {},
   "outputs": [],
   "source": [
    "def post_drs_object_to_server(object_id=None, description=None, name=None,\n",
    "    version=None, aliases=[], is_bundle=None, size=None, mime_type=None,\n",
    "    checksum_md5=None, checksum_sha1=None, checksum_sha256=None,\n",
    "    drs_object_parent_ids=[], aws_file_key=None):\n",
    "\n",
    "    \"\"\"Submit DRS Object to the local Starter Kit DRS server\"\"\"\n",
    "\n",
    "    if is_bundle == None or not is_bundle:\n",
    "        drs_map[object_id] = checksum_md5\n",
    "        \n",
    "    if checksum_md5 != None:\n",
    "        object_id = checksum_md5\n",
    "        \n",
    "    url = \"http://localhost:5001/admin/ga4gh/drs/v1/objects\"\n",
    "    drs_object_json = {\n",
    "        \"id\": object_id,\n",
    "        \"description\": description,\n",
    "        \"created_time\": timestamp,\n",
    "        \"name\": name,\n",
    "        \"updated_time\": timestamp,\n",
    "        \"version\": version,\n",
    "        \"aliases\": aliases,\n",
    "        \"is_bundle\": is_bundle,\n",
    "    }\n",
    "\n",
    "    if len(drs_object_parent_ids) > 0:\n",
    "        drs_object_json[\"drs_object_parents\"] = [{\"id\": i} for i in drs_object_parent_ids]\n",
    "\n",
    "    if not is_bundle:\n",
    "        # add size, checksums, drs object parents\n",
    "        drs_object_json[\"size\"] = size\n",
    "        drs_object_json[\"mime_type\"] = mime_type\n",
    "        drs_object_json[\"checksums\"] = []\n",
    "        drs_object_json[\"checksums\"].append({\"type\": \"md5\", \"checksum\": checksum_md5})\n",
    "        drs_object_json[\"checksums\"].append({\"type\": \"sha1\", \"checksum\": checksum_sha1})\n",
    "        drs_object_json[\"checksums\"].append({\"type\": \"sha256\", \"checksum\": checksum_sha256})\n",
    "        #drs_object_json[\"file_access_objects\"] = [\n",
    "        #    {\n",
    "        #        \"path\": file_path\n",
    "        #    }\n",
    "        #]\n",
    "        drs_object_json[\"aws_s3_access_objects\"] = [\n",
    "            {\n",
    "                \"region\": aws_region,\n",
    "                \"bucket\": aws_bucket,\n",
    "                \"key\": aws_file_key\n",
    "            }\n",
    "        ]\n",
    "\n",
    "    response = requests.post(url, json=drs_object_json)\n",
    "    if response.status_code == 500:\n",
    "        response_json = response.json()\n",
    "        message = ( \"WARNING: Unsuccessful object creation for DRS object with ID: '{}'. \" \\\n",
    "        + \"Status Code: {}. Error Message: {}\").format(object_id, response_json[\"status\"], response_json[\"error\"])\n",
    "        print(message)\n",
    "    elif response.status_code != 200:\n",
    "        response_json = response.json()\n",
    "        message = ( \"WARNING: Unsuccessful object creation for DRS object with ID: '{}'. \" \\\n",
    "        + \"Status Code: {}. Error Message: {}\").format(object_id, response_json[\"status_code\"], response_json[\"msg\"])\n",
    "        print(message)"
   ]
  },
  {
   "cell_type": "code",
   "execution_count": 17,
   "id": "3cea1b69",
   "metadata": {},
   "outputs": [],
   "source": [
    "def bundle_id_from_name(bundle_name, hash=\"md5\"):\n",
    "    if hash == \"md5\":\n",
    "        bundle_hash = hashlib.md5(bundle_name.encode())\n",
    "    elif hash == \"sh1\":\n",
    "        bundle_hash = hashlib.sha1(bundle_name.encode())\n",
    "    elif hash == \"sh256\":\n",
    "        bundle_hash = hashlib.sha256(bundle_name.encode())\n",
    "    bundle_id = bundle_hash.hexdigest()\n",
    "    #drs_map[bundle_name] = bundle_id\n",
    "    return bundle_id"
   ]
  },
  {
   "cell_type": "code",
   "execution_count": 18,
   "id": "729cbdbd",
   "metadata": {},
   "outputs": [],
   "source": [
    "def files_metadata(path, ext):\n",
    "    metadata = []\n",
    "    with open(os.path.join(path, \"1000GP_Phase3.sample.ilifu\")) as f:\n",
    "        for line in f.readlines():\n",
    "            s = line.split(' ')[0]   \n",
    "            o = line.split(' ')\n",
    "            d = \"Patient: %s, Country: %s, Region: %s, Sex: %s\" % (o[0], o[1], o[2], o[3])\n",
    "            cr_path = path + \"/crams/{}/*.{}\".format(s,ext)\n",
    "            files = glob.glob(cr_path)\n",
    "            for file in files:\n",
    "                f_path = \"/crams/{}/{}\".format(s,os.path.basename(file))\n",
    "                file_stats = os.stat(file)\n",
    "                fsize = file_stats.st_size\n",
    "                md5 = bundle_id_from_name(file, \"md5\")\n",
    "                sh1 = bundle_id_from_name(file, \"sh1\")\n",
    "                sh256 = bundle_id_from_name(file, \"sh256\")\n",
    "                metadata.append([s, d, f_path, md5, sh1, sh256])\n",
    "    return metadata"
   ]
  },
  {
   "cell_type": "code",
   "execution_count": 19,
   "id": "1a1e169d",
   "metadata": {},
   "outputs": [],
   "source": [
    "def add_file_to_server(metadata, type):\n",
    "    for mdata in metadata:\n",
    "        object_id = \"%s.%s\" % (mdata[0], type)\n",
    "        file_path = mdata[2]\n",
    "        name = os.path.splitext(file_path.split('/')[-1])[0]\n",
    "        description = mdata[1]\n",
    "        is_bundle = False\n",
    "        mime_type = \"application/%s\" % (type)\n",
    "        checksum_md5 = mdata[3]\n",
    "        checksum_sha1 = mdata[4]\n",
    "        checksum_sha256 = mdata[5]\n",
    "        post_drs_object_to_server(\n",
    "            object_id = object_id,\n",
    "            is_bundle = is_bundle,\n",
    "            mime_type = mime_type,\n",
    "            checksum_md5 = checksum_md5,\n",
    "            aws_file_key = file_path,\n",
    "            name = name,\n",
    "            description = description,\n",
    "            checksum_sha1 = checksum_sha1,\n",
    "            checksum_sha256 = checksum_sha256\n",
    "        )"
   ]
  },
  {
   "cell_type": "code",
   "execution_count": 20,
   "id": "39834899",
   "metadata": {},
   "outputs": [],
   "source": [
    "headings = [\"sample_id\", \"cram_md5\"]\n",
    "path = \"/share/elwazi\"\n",
    "metadata_crams = files_metadata(path, \"cram\")\n",
    "metadata_crais = files_metadata(path, \"crai\")"
   ]
  },
  {
   "cell_type": "code",
   "execution_count": 21,
   "id": "c9038fec",
   "metadata": {},
   "outputs": [],
   "source": [
    "add_file_to_server(metadata_crams, \"cram\")\n",
    "add_file_to_server(metadata_crais, \"crai\")"
   ]
  },
  {
   "cell_type": "code",
   "execution_count": null,
   "id": "240b8827",
   "metadata": {},
   "outputs": [],
   "source": []
  }
 ],
 "metadata": {
  "kernelspec": {
   "display_name": "Python 3 (ipykernel)",
   "language": "python",
   "name": "python3"
  },
  "language_info": {
   "codemirror_mode": {
    "name": "ipython",
    "version": 3
   },
   "file_extension": ".py",
   "mimetype": "text/x-python",
   "name": "python",
   "nbconvert_exporter": "python",
   "pygments_lexer": "ipython3",
   "version": "3.10.6"
  }
 },
 "nbformat": 4,
 "nbformat_minor": 5
}
